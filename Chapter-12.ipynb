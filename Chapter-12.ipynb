{
 "cells": [
  {
   "cell_type": "code",
   "execution_count": 1,
   "metadata": {},
   "outputs": [],
   "source": [
    "counts = [809, 834, 477, 478, 307, 122, 96, 102, 324, 476]"
   ]
  },
  {
   "cell_type": "code",
   "execution_count": 2,
   "metadata": {},
   "outputs": [
    {
     "data": {
      "text/plain": [
       "96"
      ]
     },
     "execution_count": 2,
     "metadata": {},
     "output_type": "execute_result"
    }
   ],
   "source": [
    "min(counts)"
   ]
  },
  {
   "cell_type": "code",
   "execution_count": 3,
   "metadata": {},
   "outputs": [
    {
     "name": "stdout",
     "output_type": "stream",
     "text": [
      "6\n"
     ]
    }
   ],
   "source": [
    "low=min(counts)\n",
    "min_index=counts.index(low)\n",
    "print(min_index)"
   ]
  },
  {
   "cell_type": "code",
   "execution_count": 4,
   "metadata": {},
   "outputs": [
    {
     "data": {
      "text/plain": [
       "6"
      ]
     },
     "execution_count": 4,
     "metadata": {},
     "output_type": "execute_result"
    }
   ],
   "source": [
    "counts.index(min(counts))"
   ]
  },
  {
   "cell_type": "code",
   "execution_count": null,
   "metadata": {},
   "outputs": [],
   "source": [
    "L=[809, 834, 477, 478, 307, 122, 96, 102, 324, 476]"
   ]
  },
  {
   "cell_type": "code",
   "execution_count": 25,
   "metadata": {},
   "outputs": [
    {
     "data": {
      "text/plain": [
       "96"
      ]
     },
     "execution_count": 25,
     "metadata": {},
     "output_type": "execute_result"
    }
   ],
   "source": [
    "smallest=min(L)\n",
    "smallest"
   ]
  },
  {
   "cell_type": "code",
   "execution_count": 26,
   "metadata": {},
   "outputs": [
    {
     "data": {
      "text/plain": [
       "6"
      ]
     },
     "execution_count": 26,
     "metadata": {},
     "output_type": "execute_result"
    }
   ],
   "source": [
    "min1=L.index(smallest)\n",
    "min1"
   ]
  },
  {
   "cell_type": "code",
   "execution_count": 27,
   "metadata": {},
   "outputs": [],
   "source": [
    "L.remove(smallest)\n"
   ]
  },
  {
   "cell_type": "code",
   "execution_count": 28,
   "metadata": {},
   "outputs": [
    {
     "data": {
      "text/plain": [
       "[809, 834, 477, 478, 307, 122, 102, 324, 476]"
      ]
     },
     "execution_count": 28,
     "metadata": {},
     "output_type": "execute_result"
    }
   ],
   "source": [
    "L"
   ]
  },
  {
   "cell_type": "code",
   "execution_count": 37,
   "metadata": {},
   "outputs": [
    {
     "name": "stdout",
     "output_type": "stream",
     "text": [
      "6 7\n"
     ]
    }
   ],
   "source": [
    "next_smallest=min(L)\n",
    "min2=L.index(next_smallest)\n",
    "min2\n",
    "L.insert(min1,smallest)\n",
    "if min1<=min2:\n",
    "    min2+=1\n",
    "print(min1,min2)"
   ]
  },
  {
   "cell_type": "code",
   "execution_count": 40,
   "metadata": {},
   "outputs": [
    {
     "data": {
      "text/plain": [
       "(0, 1)"
      ]
     },
     "execution_count": 40,
     "metadata": {},
     "output_type": "execute_result"
    }
   ],
   "source": [
    "L1=[1,2,3,4,5,8,23]\n",
    "def find_two_smallest(L):\n",
    "    temp_list=sorted(L)\n",
    "    smallest=temp_list[0]\n",
    "    next_smallest=temp_list[1]\n",
    "    min1=L.index(smallest)\n",
    "    min2=L.index(next_smallest)\n",
    "    return(min1,min2)\n",
    "\n",
    "find_two_smallest(L1)   "
   ]
  },
  {
   "cell_type": "code",
   "execution_count": 48,
   "metadata": {},
   "outputs": [
    {
     "data": {
      "text/plain": [
       "(6, 0)"
      ]
     },
     "execution_count": 48,
     "metadata": {},
     "output_type": "execute_result"
    }
   ],
   "source": [
    "def find_two_smallest(L):\n",
    "    if L[0]<L[1]:\n",
    "        min1,min2=0,1\n",
    "    else:\n",
    "        min1,min2=1,0\n",
    "    for i in range(2,len(L)):\n",
    "        if L[i]<L[min1]:\n",
    "            min2=min1\n",
    "            min1=i\n",
    "        elif L[i]<L[min2]:\n",
    "            min2=i\n",
    "    return (min1,min2)\n",
    "M=[2,3,34,5,6,3,1,2]\n",
    "find_two_smallest(M)\n"
   ]
  },
  {
   "cell_type": "code",
   "execution_count": 4,
   "metadata": {},
   "outputs": [],
   "source": [
    "def merge(L1,L2):\n",
    "    \"\"\"(list1,list2) -> list\n",
    "    >>>merge([1,3,4,6],[1,2,5,7])\n",
    "    [1,1,2,3,4,5,6,7]\n",
    "    \"\"\"\n",
    "    newL=[]\n",
    "    i1=0\n",
    "    i2=0\n",
    "    while i1!=len(L1) and i2!=len(L2):\n",
    "        if L1[i1]<=L2[i2]:\n",
    "            newL.append(L1[i1])\n",
    "            i1+=1\n",
    "        else:\n",
    "            newL.append(L2[i2])\n",
    "            i2+=1\n",
    "    newL.extend(L1[i1:])#if use append, it will add []\n",
    "    newL.extend(L2[i2:])\n",
    "    return newL\n",
    "#extend() 函数用于在列表末尾一次性追加另一个序列中的多个值（用新列表扩展原来的列表）"
   ]
  },
  {
   "cell_type": "code",
   "execution_count": 5,
   "metadata": {},
   "outputs": [
    {
     "data": {
      "text/plain": [
       "[1, 1, 2, 3, 4, 5, 6, 7]"
      ]
     },
     "execution_count": 5,
     "metadata": {},
     "output_type": "execute_result"
    }
   ],
   "source": [
    "merge([1,3,4,6],[1,2,5,7])"
   ]
  },
  {
   "cell_type": "markdown",
   "metadata": {},
   "source": [
    "Exercise"
   ]
  },
  {
   "cell_type": "code",
   "execution_count": 22,
   "metadata": {},
   "outputs": [],
   "source": [
    "#1\n",
    "def complement(string):\n",
    "    S=list(\"AATTGCCGT\")\n",
    "    S1=[]\n",
    "    for i in range(len(S)):\n",
    "        if S[i]==\"A\":\n",
    "            S1.insert(i,\"T\")\n",
    "        if S[i]==\"T\":\n",
    "            S1.insert(i,\"A\")\n",
    "        if S[i]==\"G\":\n",
    "            S1.insert(i,\"C\")\n",
    "        if S[i]==\"C\":\n",
    "            S1.insert(i,\"G\")\n",
    "        \n",
    "    return ''.join(S1) \n",
    "#list1 = [1, 2, 3]\n",
    "#str1 = ''.join(str(e) for e in list1)\n",
    "    "
   ]
  },
  {
   "cell_type": "code",
   "execution_count": 23,
   "metadata": {},
   "outputs": [
    {
     "data": {
      "text/plain": [
       "'TTAACGGCA'"
      ]
     },
     "execution_count": 23,
     "metadata": {},
     "output_type": "execute_result"
    }
   ],
   "source": [
    "S=\"AATTGCCGT\"\n",
    "complement(S)"
   ]
  },
  {
   "cell_type": "code",
   "execution_count": 27,
   "metadata": {},
   "outputs": [
    {
     "data": {
      "text/plain": [
       "(-10, 5)"
      ]
     },
     "execution_count": 27,
     "metadata": {},
     "output_type": "execute_result"
    }
   ],
   "source": [
    "#2\n",
    "#a\n",
    "L=[1,2,3,7,8,-10,-2,5]\n",
    "def find_min(L):\n",
    "    min_value=min(L)\n",
    "    for i in range(len(L)):\n",
    "        if L[i]==min_value:\n",
    "            return min_value,i\n",
    "find_min(L)"
   ]
  },
  {
   "cell_type": "code",
   "execution_count": 24,
   "metadata": {},
   "outputs": [
    {
     "data": {
      "text/plain": [
       "(-3, 2)"
      ]
     },
     "execution_count": 24,
     "metadata": {},
     "output_type": "execute_result"
    }
   ],
   "source": [
    "#b\n",
    "def min_value(L):\n",
    "    min_value=min(L)\n",
    "    return (min_value,L.index(min_value))\n",
    "min_value([1,2,-3,4,5,8,3])\n",
    "    "
   ]
  },
  {
   "cell_type": "code",
   "execution_count": 30,
   "metadata": {},
   "outputs": [
    {
     "data": {
      "text/plain": [
       "(8, 4)"
      ]
     },
     "execution_count": 30,
     "metadata": {},
     "output_type": "execute_result"
    }
   ],
   "source": [
    "#c\n",
    "def min_or_max_index(L,B):\n",
    "    if B:\n",
    "        min_value=min(L)\n",
    "        for i in range(len(L)):\n",
    "            if L[i]==min_value:\n",
    "                return min_value,i\n",
    "    else:\n",
    "        max_value=max(L)\n",
    "        for i in range(len(L)):\n",
    "            if L[i]==max_value:\n",
    "                return max_value,i\n",
    "L=[1,2,3,7,8,-10,-2,5]\n",
    "B=False\n",
    "min_or_max_index(L,B)"
   ]
  },
  {
   "cell_type": "code",
   "execution_count": 37,
   "metadata": {},
   "outputs": [
    {
     "data": {
      "text/plain": [
       "41.44"
      ]
     },
     "execution_count": 37,
     "metadata": {},
     "output_type": "execute_result"
    }
   ],
   "source": [
    "#3\n",
    "def hopedale_average(filename):\n",
    "    filename=open(filename)\n",
    "    filename.readline()\n",
    "    data=filename.readline().strip()\n",
    "    while data.startswith(\"#\"):\n",
    "        data=filename.readline().strip()\n",
    "    total_pelts=int(data)\n",
    "    count=1\n",
    "    for data in filename:\n",
    "        total_pelts+=int(data.strip())\n",
    "        count+=1\n",
    "    return round(total_pelts/count,2)\n",
    "hopedale_average(\"hopedale.txt\")"
   ]
  },
  {
   "cell_type": "code",
   "execution_count": null,
   "metadata": {},
   "outputs": [],
   "source": [
    "#4\n",
    "# Two items; smallest first.\n",
    ">>> find_two_smallest([1, 2])\n",
    "(0, 1)\n",
    "\n",
    "# Two items; smallest second.\n",
    ">>> find_two_smallest([3, 2])\n",
    "(1, 0)\n",
    "\n",
    "# Two items; same values.\n",
    ">>> find_two_smallest([3, 3])\n",
    "(0, 1)\n",
    "\n",
    "# Three items items; 2nd smallest is duplicated.\n",
    ">>> find_two_smallest([3, 1, 3])\n",
    "(1, 0)\n",
    "\n",
    "# Multiple items: smallest at beginning; 2nd smallest at middle.\n",
    ">>> find_two_smallest([1, 4, 2, 3, 4])\n",
    "(0, 2)\n",
    "\n",
    "# Multiple items: smallest at middle; 2nd smallest at end.\n",
    ">>> find_two_smallest([4, 3, 1, 5, 6, 2])\n",
    "(5, 3)\n",
    "\n",
    "# Multiple items: smallest at end; 2nd smallest at beginning.\n",
    ">>> find_two_smallest([-2, 4, 3, 2, 5, 6, -1])\n",
    "(3, 4)"
   ]
  },
  {
   "cell_type": "markdown",
   "metadata": {},
   "source": [
    "#5   \n",
    "If passed a list of length one, it should return a tuple containing the index of the smallest. If passed a list of length zero, it should return an empty tuple.\n",
    "\n",
    "Return a tuple of the indices of the two smallest values in list L. \n",
    "If there is only one item in L or zero items in L, return a tuple\n",
    "containing the index of that one item or an empty tuple, respectively."
   ]
  },
  {
   "cell_type": "code",
   "execution_count": 41,
   "metadata": {},
   "outputs": [],
   "source": [
    "#6\n",
    "def dutch_flag(S):\n",
    "    M=[]\n",
    "    for item in S:\n",
    "        if item==\"red\":\n",
    "            M.append(item)\n",
    "    for item in S:   \n",
    "        if item==\"green\":\n",
    "            M.append(item)\n",
    "    for itme in S:\n",
    "        if itme==\"blue\":\n",
    "            M.append(itme)\n",
    "    return M    "
   ]
  },
  {
   "cell_type": "code",
   "execution_count": 42,
   "metadata": {},
   "outputs": [
    {
     "data": {
      "text/plain": [
       "['red', 'red', 'green', 'green', 'green', 'blue', 'blue', 'blue']"
      ]
     },
     "execution_count": 42,
     "metadata": {},
     "output_type": "execute_result"
    }
   ],
   "source": [
    "S=[\"red\",\"green\",\"blue\",\"red\",\"green\",\"blue\",\"blue\",\"green\"]\n",
    "dutch_flag(S)"
   ]
  },
  {
   "cell_type": "code",
   "execution_count": null,
   "metadata": {},
   "outputs": [],
   "source": []
  },
  {
   "cell_type": "code",
   "execution_count": null,
   "metadata": {},
   "outputs": [],
   "source": []
  },
  {
   "cell_type": "code",
   "execution_count": null,
   "metadata": {},
   "outputs": [],
   "source": []
  },
  {
   "cell_type": "code",
   "execution_count": null,
   "metadata": {},
   "outputs": [],
   "source": []
  },
  {
   "cell_type": "code",
   "execution_count": null,
   "metadata": {},
   "outputs": [],
   "source": []
  },
  {
   "cell_type": "code",
   "execution_count": null,
   "metadata": {},
   "outputs": [],
   "source": []
  }
 ],
 "metadata": {
  "kernelspec": {
   "display_name": "Python 3",
   "language": "python",
   "name": "python3"
  },
  "language_info": {
   "codemirror_mode": {
    "name": "ipython",
    "version": 3
   },
   "file_extension": ".py",
   "mimetype": "text/x-python",
   "name": "python",
   "nbconvert_exporter": "python",
   "pygments_lexer": "ipython3",
   "version": "3.5.2"
  }
 },
 "nbformat": 4,
 "nbformat_minor": 2
}
