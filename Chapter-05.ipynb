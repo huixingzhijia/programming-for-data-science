{
 "cells": [
  {
   "cell_type": "code",
   "execution_count": 1,
   "metadata": {},
   "outputs": [
    {
     "data": {
      "text/plain": [
       "True"
      ]
     },
     "execution_count": 1,
     "metadata": {},
     "output_type": "execute_result"
    }
   ],
   "source": [
    "def is_positive(x):\n",
    "    return x>0\n",
    "is_positive(3)"
   ]
  },
  {
   "cell_type": "code",
   "execution_count": 4,
   "metadata": {},
   "outputs": [
    {
     "data": {
      "text/plain": [
       "False"
      ]
     },
     "execution_count": 4,
     "metadata": {},
     "output_type": "execute_result"
    }
   ],
   "source": [
    "is_positive(-4.6)"
   ]
  },
  {
   "cell_type": "code",
   "execution_count": 5,
   "metadata": {},
   "outputs": [
    {
     "data": {
      "text/plain": [
       "False"
      ]
     },
     "execution_count": 5,
     "metadata": {},
     "output_type": "execute_result"
    }
   ],
   "source": [
    "is_positive(0)"
   ]
  },
  {
   "cell_type": "code",
   "execution_count": 6,
   "metadata": {},
   "outputs": [
    {
     "data": {
      "text/plain": [
       "True"
      ]
     },
     "execution_count": 6,
     "metadata": {},
     "output_type": "execute_result"
    }
   ],
   "source": [
    "'Jan' in '01 Jan 1838'"
   ]
  },
  {
   "cell_type": "code",
   "execution_count": 7,
   "metadata": {},
   "outputs": [
    {
     "name": "stdout",
     "output_type": "stream",
     "text": [
      "Enter a date in the format DD MTH YYYY: 24 Feb 2013\n"
     ]
    }
   ],
   "source": [
    "date=input('Enter a date in the format DD MTH YYYY: ')"
   ]
  },
  {
   "cell_type": "code",
   "execution_count": 8,
   "metadata": {},
   "outputs": [
    {
     "data": {
      "text/plain": [
       "False"
      ]
     },
     "execution_count": 8,
     "metadata": {},
     "output_type": "execute_result"
    }
   ],
   "source": [
    "'Jan' in date"
   ]
  },
  {
   "cell_type": "code",
   "execution_count": 12,
   "metadata": {},
   "outputs": [
    {
     "name": "stdout",
     "output_type": "stream",
     "text": [
      "Enter the pH level: 9\n"
     ]
    }
   ],
   "source": [
    "ph=float(input('Enter the pH level: '))"
   ]
  },
  {
   "cell_type": "code",
   "execution_count": 14,
   "metadata": {},
   "outputs": [],
   "source": [
    "if ph<7.0:\n",
    "    print(ph,'is acid.')\n",
    "    print(\"You should be careful with that!\")"
   ]
  },
  {
   "cell_type": "code",
   "execution_count": 15,
   "metadata": {},
   "outputs": [
    {
     "name": "stdout",
     "output_type": "stream",
     "text": [
      "9.0 is basic.\n"
     ]
    }
   ],
   "source": [
    "if ph>7.0:\n",
    "    print(ph,\"is basic.\")"
   ]
  },
  {
   "cell_type": "code",
   "execution_count": 16,
   "metadata": {},
   "outputs": [
    {
     "name": "stdout",
     "output_type": "stream",
     "text": [
      "9.0 is basic.\n"
     ]
    }
   ],
   "source": [
    "if ph<7.0:\n",
    "    print(ph,\"is acidic.\")\n",
    "elif ph>7.0:\n",
    "    print(ph,\"is basic.\")"
   ]
  },
  {
   "cell_type": "code",
   "execution_count": 17,
   "metadata": {},
   "outputs": [
    {
     "name": "stdout",
     "output_type": "stream",
     "text": [
      "Enter the compound: CH4\n"
     ]
    }
   ],
   "source": [
    "compound=input(\"Enter the compound: \")"
   ]
  },
  {
   "cell_type": "code",
   "execution_count": 20,
   "metadata": {},
   "outputs": [
    {
     "name": "stdout",
     "output_type": "stream",
     "text": [
      "Methane\n"
     ]
    }
   ],
   "source": [
    "if compound==\"H2O\":\n",
    "    print(\"Water\")\n",
    "elif compound==\"NH3\":\n",
    "    print(\"Ammonia\")\n",
    "elif compound==\"CH4\":\n",
    "    print(\"Methane\")"
   ]
  },
  {
   "cell_type": "code",
   "execution_count": 21,
   "metadata": {},
   "outputs": [
    {
     "name": "stdout",
     "output_type": "stream",
     "text": [
      "Enter the compound: H2SO4\n",
      "Unknown compound\n"
     ]
    }
   ],
   "source": [
    "compound=input(\"Enter the compound: \")\n",
    "if compound==\"H2O\":\n",
    "    print(\"Water\")\n",
    "elif compound==\"NH3\":\n",
    "    print(\"Ammonia\")\n",
    "elif compound==\"CH4\":\n",
    "    print(\"Methane\")\n",
    "else:\n",
    "    print(\"Unknown compound\")"
   ]
  },
  {
   "cell_type": "code",
   "execution_count": 2,
   "metadata": {},
   "outputs": [
    {
     "name": "stdout",
     "output_type": "stream",
     "text": [
      "10.0 is basic.\n"
     ]
    }
   ],
   "source": [
    "\n",
    "if len(value)>0:\n",
    "    ph=float(value)\n",
    "    if ph<7:\n",
    "        print(ph,\"is acidic.\")\n",
    "    elif ph>7:\n",
    "        print(ph,\"is basic.\")\n",
    "    else:\n",
    "        print(ph,\"is neutral.\")\n",
    "else:\n",
    "    print(\"No pH  value was given!\")"
   ]
  },
  {
   "cell_type": "code",
   "execution_count": 1,
   "metadata": {},
   "outputs": [
    {
     "name": "stdout",
     "output_type": "stream",
     "text": [
      "Enter the pH level: 10\n"
     ]
    }
   ],
   "source": [
    "value =input(\"Enter the pH level: \")"
   ]
  },
  {
   "cell_type": "code",
   "execution_count": 1,
   "metadata": {},
   "outputs": [
    {
     "name": "stdout",
     "output_type": "stream",
     "text": [
      "Enter a number: 23\n",
      "Enter a number: 23\n"
     ]
    }
   ],
   "source": [
    "age=float(input(\"Enter a number: \"))\n",
    "bmi=float(input(\"Enter a number: \"))\n",
    "young=age<45\n",
    "slim=bmi<22\n",
    "if young:\n",
    "    if slim:\n",
    "        risk=\"low\"\n",
    "    else:\n",
    "        risk=\"medium\"\n",
    "else:\n",
    "    if slim:\n",
    "        risk=\"medium\"\n",
    "    else:\n",
    "        risk=\"high\""
   ]
  },
  {
   "cell_type": "markdown",
   "metadata": {},
   "source": [
    "Exercises"
   ]
  },
  {
   "cell_type": "code",
   "execution_count": 2,
   "metadata": {},
   "outputs": [
    {
     "data": {
      "text/plain": [
       "True"
      ]
     },
     "execution_count": 2,
     "metadata": {},
     "output_type": "execute_result"
    }
   ],
   "source": [
    "#1\n",
    "True and not False"
   ]
  },
  {
   "cell_type": "code",
   "execution_count": 4,
   "metadata": {},
   "outputs": [
    {
     "data": {
      "text/plain": [
       "True"
      ]
     },
     "execution_count": 4,
     "metadata": {},
     "output_type": "execute_result"
    }
   ],
   "source": [
    "#True and not false error\n",
    "True or True and False"
   ]
  },
  {
   "cell_type": "code",
   "execution_count": 5,
   "metadata": {},
   "outputs": [
    {
     "data": {
      "text/plain": [
       "True"
      ]
     },
     "execution_count": 5,
     "metadata": {},
     "output_type": "execute_result"
    }
   ],
   "source": [
    "not True or not False"
   ]
  },
  {
   "cell_type": "code",
   "execution_count": 6,
   "metadata": {},
   "outputs": [
    {
     "data": {
      "text/plain": [
       "True"
      ]
     },
     "execution_count": 6,
     "metadata": {},
     "output_type": "execute_result"
    }
   ],
   "source": [
    "True and not 0"
   ]
  },
  {
   "cell_type": "code",
   "execution_count": 7,
   "metadata": {},
   "outputs": [
    {
     "data": {
      "text/plain": [
       "True"
      ]
     },
     "execution_count": 7,
     "metadata": {},
     "output_type": "execute_result"
    }
   ],
   "source": [
    "52<52.3"
   ]
  },
  {
   "cell_type": "code",
   "execution_count": 8,
   "metadata": {},
   "outputs": [
    {
     "data": {
      "text/plain": [
       "False"
      ]
     },
     "execution_count": 8,
     "metadata": {},
     "output_type": "execute_result"
    }
   ],
   "source": [
    "1+52<52.3"
   ]
  },
  {
   "cell_type": "code",
   "execution_count": 10,
   "metadata": {},
   "outputs": [
    {
     "data": {
      "text/plain": [
       "False"
      ]
     },
     "execution_count": 10,
     "metadata": {},
     "output_type": "execute_result"
    }
   ],
   "source": [
    "4!=4.0"
   ]
  },
  {
   "cell_type": "code",
   "execution_count": 17,
   "metadata": {},
   "outputs": [
    {
     "name": "stdout",
     "output_type": "stream",
     "text": [
      "True\n"
     ]
    }
   ],
   "source": [
    "#2\n",
    "if a and b:\n",
    "    print(\"True\")\n"
   ]
  },
  {
   "cell_type": "code",
   "execution_count": 18,
   "metadata": {},
   "outputs": [],
   "source": [
    "if not x:\n",
    "    print(\"True\")"
   ]
  },
  {
   "cell_type": "code",
   "execution_count": 19,
   "metadata": {},
   "outputs": [
    {
     "name": "stdout",
     "output_type": "stream",
     "text": [
      "True\n"
     ]
    }
   ],
   "source": [
    "if x or y:\n",
    "    print(\"True\")"
   ]
  },
  {
   "cell_type": "code",
   "execution_count": 4,
   "metadata": {},
   "outputs": [],
   "source": [
    "#3\n",
    "full=True\n",
    "empty=True\n",
    "if full and not empty:\n",
    "    print(\"True\")"
   ]
  },
  {
   "cell_type": "code",
   "execution_count": 17,
   "metadata": {},
   "outputs": [
    {
     "name": "stdout",
     "output_type": "stream",
     "text": [
      "turn_camera_on\n"
     ]
    }
   ],
   "source": [
    "#4\n",
    "def turn_camera_on():\n",
    "    print(\"Turn\")\n",
    "light=0.1\n",
    "temperature=3\n",
    "if (light < 0.01) or (temperature > 0.0):\n",
    "    if not ((light < 0.01) and (temperature > 0.0)):\n",
    "        print(\"turn_camera_on\")"
   ]
  },
  {
   "cell_type": "code",
   "execution_count": 18,
   "metadata": {},
   "outputs": [
    {
     "name": "stdout",
     "output_type": "stream",
     "text": [
      "turn_camera_on\n"
     ]
    }
   ],
   "source": [
    "if (light < 0.01) != (temperature > 0.0): \n",
    "    print(\"turn_camera_on\")\n",
    "#I think they give the same results"
   ]
  },
  {
   "cell_type": "code",
   "execution_count": 21,
   "metadata": {},
   "outputs": [
    {
     "data": {
      "text/plain": [
       "False"
      ]
     },
     "execution_count": 21,
     "metadata": {},
     "output_type": "execute_result"
    }
   ],
   "source": [
    "#5\n",
    "def ab(num):\n",
    "    if num==abs(num):\n",
    "        result=True\n",
    "    else:\n",
    "        result=False\n",
    "    return result\n",
    "ab(-3)\n",
    "\n"
   ]
  },
  {
   "cell_type": "code",
   "execution_count": 22,
   "metadata": {},
   "outputs": [
    {
     "data": {
      "text/plain": [
       "True"
      ]
     },
     "execution_count": 22,
     "metadata": {},
     "output_type": "execute_result"
    }
   ],
   "source": [
    "#6\n",
    "def different(a,b):\n",
    "    if a!=b:\n",
    "        return True\n",
    "    else:\n",
    "        return False\n",
    "different(3,4)"
   ]
  },
  {
   "cell_type": "code",
   "execution_count": 34,
   "metadata": {},
   "outputs": [
    {
     "name": "stdout",
     "output_type": "stream",
     "text": [
      "100000\n"
     ]
    }
   ],
   "source": [
    "#7\n",
    "population=100000\n",
    "land_area=5000\n",
    "if population<10000000:\n",
    "    print(population)"
   ]
  },
  {
   "cell_type": "code",
   "execution_count": 35,
   "metadata": {},
   "outputs": [],
   "source": [
    "if 10000000<population<35000000:\n",
    "    print(population)"
   ]
  },
  {
   "cell_type": "code",
   "execution_count": 36,
   "metadata": {},
   "outputs": [],
   "source": [
    "if (population/land_area)>100:\n",
    "    print(float(population/land_area))"
   ]
  },
  {
   "cell_type": "code",
   "execution_count": 37,
   "metadata": {},
   "outputs": [
    {
     "name": "stdout",
     "output_type": "stream",
     "text": [
      "Sparsely populated\n"
     ]
    }
   ],
   "source": [
    "if (population/land_area)>100:\n",
    "    print(float(population/land_area))\n",
    "else:\n",
    "    print(\"Sparsely populated\")"
   ]
  },
  {
   "cell_type": "code",
   "execution_count": 6,
   "metadata": {},
   "outputs": [
    {
     "data": {
      "text/plain": [
       "306.15"
      ]
     },
     "execution_count": 6,
     "metadata": {},
     "output_type": "execute_result"
    }
   ],
   "source": [
    "#8 We \n",
    "def convert_temperatures(t,source,target):\n",
    "    if source==\"Celsius\":\n",
    "        a=t\n",
    "    elif source==\"Kelvin\":\n",
    "        a=t-273.15\n",
    "    elif source==\"Fahrenheit\":\n",
    "        a=(t-32)*5/9\n",
    "    elif source==\"Rankine\":\n",
    "        a=(t-491.67)*5/9\n",
    "    elif source==\"Delisle\":\n",
    "        a=100-t*2/3\n",
    "    elif source==\"Newton\":\n",
    "        a=t*100/33\n",
    "    elif source==\"Reaumur\":\n",
    "        a=t*5/4\n",
    "    elif source==\"Romer\":\n",
    "        a=(t-7.5)*40/21\n",
    "    if target==\"Celsius\":\n",
    "        b=a\n",
    "    elif target==\"Kelvin\":\n",
    "        b=a+273.15\n",
    "    elif target==\"Fahrenheit\":\n",
    "        b=a*9/5+32\n",
    "    elif target==\"Rankine\":\n",
    "        b=a*9/5+491.67\n",
    "    elif target==\"Delisle\":\n",
    "        b=(100-a)*3/2\n",
    "    elif target==\"Newton\":\n",
    "        b=a*33/100\n",
    "    elif target==\"Reaumur\":\n",
    "        b=a*4/5\n",
    "    elif target==\"Romer\":\n",
    "        b=a*21/40+7.5\n",
    "    return b\n",
    "\n",
    "convert_temperatures(33,\"Celsius\",\"Kelvin\")  \n",
    "\n"
   ]
  },
  {
   "cell_type": "code",
   "execution_count": 38,
   "metadata": {},
   "outputs": [
    {
     "name": "stdout",
     "output_type": "stream",
     "text": [
      "2 is VERY acidic! Be careful.\n"
     ]
    }
   ],
   "source": [
    "#9\n",
    "ph=2\n",
    "if ph<3:\n",
    "    print(ph,'is VERY acidic! Be careful.')\n",
    "elif ph<7:\n",
    "    print(ph,'is acidic.')"
   ]
  },
  {
   "cell_type": "code",
   "execution_count": 40,
   "metadata": {},
   "outputs": [
    {
     "name": "stdout",
     "output_type": "stream",
     "text": [
      "Enter the ph level: 3.6\n",
      "It's acidic!\n"
     ]
    }
   ],
   "source": [
    "#10\n",
    "ph = float(input(\"Enter the ph level: \")) \n",
    "if ph < 7.0:\n",
    "    print(\"It's acidic!\") \n",
    "elif ph < 4.0:\n",
    "    print(\"It's a strong acid!\")"
   ]
  },
  {
   "cell_type": "code",
   "execution_count": 41,
   "metadata": {},
   "outputs": [
    {
     "name": "stdout",
     "output_type": "stream",
     "text": [
      "Enter the ph level: 3.6\n",
      "It's acidic!\n",
      "It's a strong acid!\n"
     ]
    }
   ],
   "source": [
    "ph = float(input(\"Enter the ph level: \")) \n",
    "if ph < 7.0:\n",
    "    print(\"It's acidic!\") \n",
    "if ph < 4.0:\n",
    "    print(\"It's a strong acid!\")"
   ]
  },
  {
   "cell_type": "code",
   "execution_count": 44,
   "metadata": {},
   "outputs": [],
   "source": [
    "#11\n",
    "age=18\n",
    "bmi=30\n",
    "young = age < 45 \n",
    "heavy=bmi>=22.0\n",
    "if young and not heavy:\n",
    "    risk = 'low'\n",
    "elif young and heavy:\n",
    "    risk = 'medium'\n",
    "elif not young and not heavy:\n",
    "    risk = 'medium'\n",
    "elif not young and heavy:\n",
    "    risk = 'high'"
   ]
  },
  {
   "cell_type": "code",
   "execution_count": null,
   "metadata": {},
   "outputs": [],
   "source": []
  },
  {
   "cell_type": "code",
   "execution_count": null,
   "metadata": {},
   "outputs": [],
   "source": []
  },
  {
   "cell_type": "code",
   "execution_count": null,
   "metadata": {},
   "outputs": [],
   "source": []
  }
 ],
 "metadata": {
  "kernelspec": {
   "display_name": "Python 3",
   "language": "python",
   "name": "python3"
  },
  "language_info": {
   "codemirror_mode": {
    "name": "ipython",
    "version": 3
   },
   "file_extension": ".py",
   "mimetype": "text/x-python",
   "name": "python",
   "nbconvert_exporter": "python",
   "pygments_lexer": "ipython3",
   "version": "3.5.2"
  }
 },
 "nbformat": 4,
 "nbformat_minor": 2
}
