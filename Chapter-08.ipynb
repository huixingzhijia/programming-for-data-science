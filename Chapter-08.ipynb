{
 "cells": [
  {
   "cell_type": "code",
   "execution_count": 1,
   "metadata": {},
   "outputs": [
    {
     "name": "stdout",
     "output_type": "stream",
     "text": [
      "Enter a gas: argon\n",
      "argon is noble.\n"
     ]
    }
   ],
   "source": [
    "nobles=['helium','neon','argon','krypton','xenon','radon']\n",
    "gas=input('Enter a gas: ')\n",
    "if gas in nobles:\n",
    "    print('{} is noble.'.format(gas))"
   ]
  },
  {
   "cell_type": "markdown",
   "metadata": {},
   "source": [
    "Exercise"
   ]
  },
  {
   "cell_type": "code",
   "execution_count": 2,
   "metadata": {},
   "outputs": [],
   "source": [
    "kingdoms=['Bacteria', 'Protozoa', 'Chromista', 'Plantae', 'Fungi', 'Animalia']"
   ]
  },
  {
   "cell_type": "code",
   "execution_count": 3,
   "metadata": {},
   "outputs": [
    {
     "data": {
      "text/plain": [
       "'Bacteria'"
      ]
     },
     "execution_count": 3,
     "metadata": {},
     "output_type": "execute_result"
    }
   ],
   "source": [
    "kingdoms[0]\n",
    "kingdoms[-6]"
   ]
  },
  {
   "cell_type": "code",
   "execution_count": 5,
   "metadata": {},
   "outputs": [
    {
     "data": {
      "text/plain": [
       "'Animalia'"
      ]
     },
     "execution_count": 5,
     "metadata": {},
     "output_type": "execute_result"
    }
   ],
   "source": [
    "kingdoms[5]\n",
    "kingdoms[-1]"
   ]
  },
  {
   "cell_type": "code",
   "execution_count": 6,
   "metadata": {},
   "outputs": [
    {
     "data": {
      "text/plain": [
       "['Bacteria', 'Protozoa', 'Chromista']"
      ]
     },
     "execution_count": 6,
     "metadata": {},
     "output_type": "execute_result"
    }
   ],
   "source": [
    "kingdoms[0:3]\n",
    "kingdoms[-6:-3]"
   ]
  },
  {
   "cell_type": "code",
   "execution_count": 7,
   "metadata": {},
   "outputs": [
    {
     "data": {
      "text/plain": [
       "['Chromista', 'Plantae', 'Fungi']"
      ]
     },
     "execution_count": 7,
     "metadata": {},
     "output_type": "execute_result"
    }
   ],
   "source": [
    "kingdoms[2:5]\n",
    "kingdoms[-4:-1]"
   ]
  },
  {
   "cell_type": "code",
   "execution_count": 8,
   "metadata": {},
   "outputs": [
    {
     "data": {
      "text/plain": [
       "['Fungi', 'Animalia']"
      ]
     },
     "execution_count": 8,
     "metadata": {},
     "output_type": "execute_result"
    }
   ],
   "source": [
    "kingdoms[4:]\n",
    "kingdoms[-2:]"
   ]
  },
  {
   "cell_type": "code",
   "execution_count": 15,
   "metadata": {},
   "outputs": [
    {
     "data": {
      "text/plain": [
       "['9:00', '10:30', '14:00', '15:00', '15:30', '16:30']"
      ]
     },
     "execution_count": 15,
     "metadata": {},
     "output_type": "execute_result"
    }
   ],
   "source": [
    "#3\n",
    "appointments=['9:00', '10:30', '14:00', '15:00', '15:30']\n",
    "appointments.append('16:30')\n",
    "appointments"
   ]
  },
  {
   "cell_type": "code",
   "execution_count": 14,
   "metadata": {},
   "outputs": [
    {
     "data": {
      "text/plain": [
       "['9:00', '10:30', '14:00', '15:00', '15:30', '16:30', '16:30']"
      ]
     },
     "execution_count": 14,
     "metadata": {},
     "output_type": "execute_result"
    }
   ],
   "source": [
    "appoint=appointments+['16:30']\n",
    "appoint"
   ]
  },
  {
   "cell_type": "code",
   "execution_count": null,
   "metadata": {},
   "outputs": [],
   "source": [
    "#the second one create a new list and the first one modified the list"
   ]
  },
  {
   "cell_type": "code",
   "execution_count": 18,
   "metadata": {},
   "outputs": [
    {
     "data": {
      "text/plain": [
       "[1830, 2314, 2956, 3900, 4353, 4499, 5566, 9362]"
      ]
     },
     "execution_count": 18,
     "metadata": {},
     "output_type": "execute_result"
    }
   ],
   "source": [
    "#4\n",
    "ids=[4353, 2314, 2956, 3382, 9362, 3900]\n",
    "ids.remove(3382)\n",
    "ids.index(9362)\n",
    "ids.insert(ids.index(9362)+1,4499)\n",
    "ids.extend([5566,1830])\n",
    "ids.reverse()\n",
    "ids.sort()\n",
    "ids"
   ]
  },
  {
   "cell_type": "code",
   "execution_count": 19,
   "metadata": {},
   "outputs": [],
   "source": [
    "#5\n",
    "#a\n",
    "alkaline_earth_metals=[4,12,20,38,56,88]"
   ]
  },
  {
   "cell_type": "code",
   "execution_count": 20,
   "metadata": {},
   "outputs": [
    {
     "data": {
      "text/plain": [
       "5"
      ]
     },
     "execution_count": 20,
     "metadata": {},
     "output_type": "execute_result"
    }
   ],
   "source": [
    "#b\n",
    "alkaline_earth_metals.index(88)\n",
    "alkaline_earth_metals.index(88,-1)"
   ]
  },
  {
   "cell_type": "code",
   "execution_count": 21,
   "metadata": {},
   "outputs": [
    {
     "data": {
      "text/plain": [
       "6"
      ]
     },
     "execution_count": 21,
     "metadata": {},
     "output_type": "execute_result"
    }
   ],
   "source": [
    "#c\n",
    "len(alkaline_earth_metals)"
   ]
  },
  {
   "cell_type": "code",
   "execution_count": 22,
   "metadata": {},
   "outputs": [
    {
     "data": {
      "text/plain": [
       "88"
      ]
     },
     "execution_count": 22,
     "metadata": {},
     "output_type": "execute_result"
    }
   ],
   "source": [
    "#d\n",
    "max(alkaline_earth_metals)"
   ]
  },
  {
   "cell_type": "code",
   "execution_count": 23,
   "metadata": {},
   "outputs": [],
   "source": [
    "#6\n",
    "temps=[25.2, 16.8, 31.4, 23.9, 28, 22.5, 19.6]\n",
    "cool_temps=[]\n",
    "warm_temps=[]\n",
    "for tem in temps:\n",
    "    if tem<=20:\n",
    "        cool_temps.append(tem)\n",
    "    else:\n",
    "        warm_temps.append(tem)\n"
   ]
  },
  {
   "cell_type": "code",
   "execution_count": 25,
   "metadata": {},
   "outputs": [
    {
     "data": {
      "text/plain": [
       "[16.8, 19.6, 25.2, 31.4, 23.9, 28, 22.5]"
      ]
     },
     "execution_count": 25,
     "metadata": {},
     "output_type": "execute_result"
    }
   ],
   "source": [
    "temps_in_celsius=cool_temps+warm_temps\n",
    "temps_in_celsius"
   ]
  },
  {
   "cell_type": "code",
   "execution_count": null,
   "metadata": {},
   "outputs": [],
   "source": []
  },
  {
   "cell_type": "code",
   "execution_count": 9,
   "metadata": {},
   "outputs": [
    {
     "data": {
      "text/plain": [
       "True"
      ]
     },
     "execution_count": 9,
     "metadata": {},
     "output_type": "execute_result"
    }
   ],
   "source": [
    "#7\n",
    "def same_first_last(L):\n",
    "    return L[0]==L[-1]\n",
    "L=[1,2,3,4,1]\n",
    "same_first_last(L)"
   ]
  },
  {
   "cell_type": "code",
   "execution_count": 10,
   "metadata": {},
   "outputs": [
    {
     "data": {
      "text/plain": [
       "True"
      ]
     },
     "execution_count": 10,
     "metadata": {},
     "output_type": "execute_result"
    }
   ],
   "source": [
    "def is_longer(L1,L2):\n",
    "    return len(L1)>len(L2)\n",
    "L1=[1,2,3,4]\n",
    "L2=[2,3]\n",
    "is_longer(L1,L2)"
   ]
  },
  {
   "cell_type": "code",
   "execution_count": 28,
   "metadata": {},
   "outputs": [],
   "source": [
    "#7\n",
    "def same_first_last(L):\n",
    "    \"\"\" (list) -> bool Precondition: len(L) >= 2\n",
    "        Return True if and only if first item of the list is the same as the\n",
    "        last.\n",
    "        >>> same_first_last([3, 4, 2, 8, 3])\n",
    "        True\n",
    "        >>> same_first_last(['apple', 'banana', 'pear'])\n",
    "        False\n",
    "        >>> same_first_last([4.0, 4.5])\n",
    "        False\n",
    "    \"\"\"\n",
    "    if L[0]==L[-1]:\n",
    "        return True\n",
    "    else:\n",
    "        return False"
   ]
  },
  {
   "cell_type": "code",
   "execution_count": 29,
   "metadata": {},
   "outputs": [
    {
     "data": {
      "text/plain": [
       "TestResults(failed=0, attempted=3)"
      ]
     },
     "execution_count": 29,
     "metadata": {},
     "output_type": "execute_result"
    }
   ],
   "source": [
    "import doctest\n",
    "doctest.testmod()"
   ]
  },
  {
   "cell_type": "code",
   "execution_count": 34,
   "metadata": {},
   "outputs": [],
   "source": [
    "#8\n",
    "def is_longer(L1, L2):\n",
    "    \"\"\" (list, list) -> bool\n",
    "    Return True if and only if the length of L1 is longer than the length of L2.\n",
    "        >>> is_longer([1, 2, 3], [4, 5])\n",
    "        True\n",
    "        >>> is_longer(['abcdef'], ['ab', 'cd', 'ef'])\n",
    "        False\n",
    "        >>> is_longer(['a', 'b', 'c'], [1, 2, 3])\n",
    "        False\n",
    "    \"\"\"\n",
    "    if len(L1)>len(L2):\n",
    "        return True\n",
    "    else:\n",
    "        return False"
   ]
  },
  {
   "cell_type": "code",
   "execution_count": 35,
   "metadata": {},
   "outputs": [
    {
     "data": {
      "text/plain": [
       "TestResults(failed=0, attempted=6)"
      ]
     },
     "execution_count": 35,
     "metadata": {},
     "output_type": "execute_result"
    }
   ],
   "source": [
    "import doctest\n",
    "doctest.testmod()"
   ]
  },
  {
   "cell_type": "code",
   "execution_count": 41,
   "metadata": {},
   "outputs": [
    {
     "data": {
      "text/plain": [
       "[0, [...], 2]"
      ]
     },
     "execution_count": 41,
     "metadata": {},
     "output_type": "execute_result"
    }
   ],
   "source": [
    "#9\n",
    "values = [0, 1, 2]\n",
    "values[1] = values\n",
    "values"
   ]
  },
  {
   "cell_type": "code",
   "execution_count": 52,
   "metadata": {},
   "outputs": [
    {
     "data": {
      "text/plain": [
       "['kg', 'pound']"
      ]
     },
     "execution_count": 52,
     "metadata": {},
     "output_type": "execute_result"
    }
   ],
   "source": [
    "#10\n",
    "units=[['km', 'miles', 'league'], ['kg', 'pound', 'stone']]\n",
    "units[0]\n",
    "units[-1]\n",
    "units[0][0]\n",
    "units[1][0]\n",
    "units[0][1:]\n",
    "units[1][0:2]"
   ]
  },
  {
   "cell_type": "code",
   "execution_count": 49,
   "metadata": {},
   "outputs": [
    {
     "data": {
      "text/plain": [
       "['km', 'miles', 'league']"
      ]
     },
     "execution_count": 49,
     "metadata": {},
     "output_type": "execute_result"
    }
   ],
   "source": []
  },
  {
   "cell_type": "code",
   "execution_count": 2,
   "metadata": {},
   "outputs": [
    {
     "name": "stdout",
     "output_type": "stream",
     "text": [
      "0 a\n",
      "1 b\n",
      "2 c\n"
     ]
    }
   ],
   "source": [
    "#modify the loop:\n",
    "list=[\"a\",\"b\",\"c\"]\n",
    "for i,v in enumerate(list):\n",
    "    print(i,v)\n",
    "    #gives the index and the value"
   ]
  },
  {
   "cell_type": "markdown",
   "metadata": {},
   "source": [
    "Most of the time, we can modify the data using for a in range(len(list)):\n",
    "exercise for homework 6\n"
   ]
  },
  {
   "cell_type": "code",
   "execution_count": 3,
   "metadata": {},
   "outputs": [
    {
     "name": "stdout",
     "output_type": "stream",
     "text": [
      "amoxicillin,dignoxin\n"
     ]
    }
   ],
   "source": [
    "druglist = ['amoxicillin','dignoxin','metroprolol tartrate','motrin']\n",
    "\n",
    "out=\"\"\n",
    "for i in range(len(druglist)):\n",
    "    if len(out+\",\"+druglist[i])<=20:\n",
    "        if out==\"\":\n",
    "            out=druglist[i]\n",
    "        else:\n",
    "            out=out+\",\"+druglist[i]\n",
    "    else:\n",
    "        break\n",
    "\n",
    "print(out)"
   ]
  },
  {
   "cell_type": "code",
   "execution_count": 8,
   "metadata": {},
   "outputs": [
    {
     "data": {
      "text/plain": [
       "'aspirin,tulenol'"
      ]
     },
     "execution_count": 8,
     "metadata": {},
     "output_type": "execute_result"
    }
   ],
   "source": [
    "druglist = ['aspirin','tulenol','other','amoxicillin','dignoxin','metroprolol tartrate','motrin']\n",
    "out=','.join(druglist)\n",
    "out[:out.rfind(',',0,20)]\n",
    "#another way to find the last comma that allow the variable less than 20 character\n",
    "#solution to question 3 on week 6"
   ]
  },
  {
   "cell_type": "code",
   "execution_count": 19,
   "metadata": {},
   "outputs": [],
   "source": [
    "final=[]\n",
    "patients = [['Paul',80],['Eric',55],['Ada',22]]\n",
    "available = [['Digoxin',170,'mcg'],\n",
    "             ['Digoxin',280,'mcg'],\n",
    "             ['Digoxin',500,'mcg'],\n",
    "             ['Digoxin',680,'mcg'],\n",
    "             ['Digoxin',1000,'mcg']]\n",
    "for i in range(len(patients)):\n",
    "    match=[patients[i],None]#put some default if there no \n",
    "    for j in range(len(available)):\n",
    "        dose=available[j][1]\n",
    "        mass=patients[i][1]\n",
    "        if dose<=mass*12:\n",
    "            match=[patients[i],available[j]]\n",
    "    final.append(match)\n",
    "            "
   ]
  },
  {
   "cell_type": "code",
   "execution_count": 20,
   "metadata": {},
   "outputs": [
    {
     "name": "stdout",
     "output_type": "stream",
     "text": [
      "[[['Paul', 80], ['Digoxin', 680, 'mcg']], [['Eric', 55], ['Digoxin', 500, 'mcg']], [['Ada', 22], ['Digoxin', 170, 'mcg']]]\n"
     ]
    }
   ],
   "source": [
    "print(final)"
   ]
  },
  {
   "cell_type": "code",
   "execution_count": null,
   "metadata": {},
   "outputs": [],
   "source": [
    "def is_overdose(self, reference):\n",
    "    if (self.drug_name == reference.drug_name and\n",
    "        self.mass_units == reference.mass_units and \n",
    "        self.time_units == reference.time_units and self.amounts <= reference.amounts):\n",
    "        return False\n",
    "    if (self.drug_name != reference.drug_name or \n",
    "        self.time_units != reference.time_units or \n",
    "        self.mass_units != reference.mass_units): \n",
    "        return None\n",
    "    else:\n",
    "        return True"
   ]
  },
  {
   "cell_type": "code",
   "execution_count": null,
   "metadata": {},
   "outputs": [],
   "source": [
    "#simplier code from previous model\n",
    "def is_overdose(self, reference):\n",
    "    if (self.drug_name == reference.drug_name and\n",
    "        self.mass_units == reference.mass_units and \n",
    "        self.time_units == reference.time_units):\n",
    "        return self.amounts <= reference.amounts\n",
    "    else:\n",
    "        return None"
   ]
  },
  {
   "cell_type": "code",
   "execution_count": null,
   "metadata": {},
   "outputs": [],
   "source": []
  }
 ],
 "metadata": {
  "kernelspec": {
   "display_name": "Python 3",
   "language": "python",
   "name": "python3"
  },
  "language_info": {
   "codemirror_mode": {
    "name": "ipython",
    "version": 3
   },
   "file_extension": ".py",
   "mimetype": "text/x-python",
   "name": "python",
   "nbconvert_exporter": "python",
   "pygments_lexer": "ipython3",
   "version": "3.5.2"
  }
 },
 "nbformat": 4,
 "nbformat_minor": 2
}
