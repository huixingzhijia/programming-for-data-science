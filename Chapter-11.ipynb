{
 "cells": [
  {
   "cell_type": "code",
   "execution_count": 3,
   "metadata": {},
   "outputs": [
    {
     "data": {
      "text/plain": [
       "{'a', 'e', 'i', 'o', 'u'}"
      ]
     },
     "execution_count": 3,
     "metadata": {},
     "output_type": "execute_result"
    }
   ],
   "source": [
    "vowels={'a','e','i','o','u','u'}\n",
    "vowels"
   ]
  },
  {
   "cell_type": "code",
   "execution_count": 5,
   "metadata": {},
   "outputs": [
    {
     "data": {
      "text/plain": [
       "{2, 3, 5}"
      ]
     },
     "execution_count": 5,
     "metadata": {},
     "output_type": "execute_result"
    }
   ],
   "source": [
    "set([2,3,2,5])"
   ]
  },
  {
   "cell_type": "code",
   "execution_count": 6,
   "metadata": {},
   "outputs": [
    {
     "data": {
      "text/plain": [
       "{'a', 'e', 'i', 'o', 'u'}"
      ]
     },
     "execution_count": 6,
     "metadata": {},
     "output_type": "execute_result"
    }
   ],
   "source": [
    "set(vowels)"
   ]
  },
  {
   "cell_type": "code",
   "execution_count": 7,
   "metadata": {},
   "outputs": [
    {
     "data": {
      "text/plain": [
       "{0, 1, 2, 3, 4}"
      ]
     },
     "execution_count": 7,
     "metadata": {},
     "output_type": "execute_result"
    }
   ],
   "source": [
    "set(range(5))"
   ]
  },
  {
   "cell_type": "code",
   "execution_count": 9,
   "metadata": {},
   "outputs": [],
   "source": [
    "vowels.add('y')"
   ]
  },
  {
   "cell_type": "code",
   "execution_count": 5,
   "metadata": {},
   "outputs": [
    {
     "data": {
      "text/plain": [
       "{0, 2, 4, 12}"
      ]
     },
     "execution_count": 5,
     "metadata": {},
     "output_type": "execute_result"
    }
   ],
   "source": [
    "ten=set(range(10))\n",
    "lows={0,1,2,3,4,12}\n",
    "odds={1,3,5,7,9}\n",
    "lows.add(9)\n",
    "lows\n",
    "lows.difference(odds)"
   ]
  },
  {
   "cell_type": "code",
   "execution_count": 6,
   "metadata": {},
   "outputs": [
    {
     "data": {
      "text/plain": [
       "False"
      ]
     },
     "execution_count": 6,
     "metadata": {},
     "output_type": "execute_result"
    }
   ],
   "source": [
    "lows.intersection(odds)\n",
    "lows.issubset(ten)\n",
    "#lows.issuperset(odds)\n"
   ]
  },
  {
   "cell_type": "code",
   "execution_count": 7,
   "metadata": {},
   "outputs": [
    {
     "data": {
      "text/plain": [
       "{0, 2, 4, 5, 7, 12}"
      ]
     },
     "execution_count": 7,
     "metadata": {},
     "output_type": "execute_result"
    }
   ],
   "source": [
    "lows.symmetric_difference(odds)\n",
    "#lows.union(odds)\n",
    "#lows.clear()\n",
    "#lows"
   ]
  },
  {
   "cell_type": "code",
   "execution_count": 8,
   "metadata": {},
   "outputs": [
    {
     "data": {
      "text/plain": [
       "{0, 2, 4, 5, 7, 9}"
      ]
     },
     "execution_count": 8,
     "metadata": {},
     "output_type": "execute_result"
    }
   ],
   "source": [
    "lows = set([0, 1, 2, 3, 4])\n",
    "odds = set([1, 3, 5, 7, 9])\n",
    "lows-odds\n",
    "lows & odds\n",
    "lows <= odds\n",
    "lows >= odds\n",
    "lows | odds\n",
    "lows ^ odds"
   ]
  },
  {
   "cell_type": "code",
   "execution_count": 10,
   "metadata": {},
   "outputs": [
    {
     "data": {
      "text/plain": [
       "{0, 1, 2, 3, 4}"
      ]
     },
     "execution_count": 10,
     "metadata": {},
     "output_type": "execute_result"
    }
   ],
   "source": [
    "lows"
   ]
  },
  {
   "cell_type": "code",
   "execution_count": 9,
   "metadata": {},
   "outputs": [],
   "source": [
    "observations_file=open('observations.txt')"
   ]
  },
  {
   "cell_type": "code",
   "execution_count": 10,
   "metadata": {},
   "outputs": [],
   "source": [
    "birds_observed=set()\n",
    "for line in observations_file:\n",
    "    bird=line.strip()\n",
    "    birds_observed.add(bird)"
   ]
  },
  {
   "cell_type": "code",
   "execution_count": 11,
   "metadata": {},
   "outputs": [
    {
     "data": {
      "text/plain": [
       "{'canada goose', 'long-tailed jaeger', 'northern fulmar', 'snow goose'}"
      ]
     },
     "execution_count": 11,
     "metadata": {},
     "output_type": "execute_result"
    }
   ],
   "source": [
    "birds_observed"
   ]
  },
  {
   "cell_type": "code",
   "execution_count": 4,
   "metadata": {},
   "outputs": [
    {
     "name": "stdout",
     "output_type": "stream",
     "text": [
      "snow goose\n",
      "northern fulmar\n",
      "long-tailed jaeger\n",
      "canada goose\n"
     ]
    }
   ],
   "source": [
    "for species in birds_observed:\n",
    "    print(species)"
   ]
  },
  {
   "cell_type": "code",
   "execution_count": 8,
   "metadata": {},
   "outputs": [
    {
     "data": {
      "text/plain": [
       "(['Canada', 80], ['United States', 75.5], ['Mexico', 72.0])"
      ]
     },
     "execution_count": 8,
     "metadata": {},
     "output_type": "execute_result"
    }
   ],
   "source": [
    "life = (['Canada', 76.5], ['United States', 75.5], ['Mexico', 72.0])\n",
    "#life[0] =life[1]#error\n",
    "life[0][1]=80\n",
    "life"
   ]
  },
  {
   "cell_type": "code",
   "execution_count": 9,
   "metadata": {},
   "outputs": [],
   "source": [
    "canada = ['Canada', 76.5]\n",
    "usa = ['United States', 75.5]\n",
    "mexico = ['Mexico', 72.0]\n",
    "life=(canada,usa,mexico)"
   ]
  },
  {
   "cell_type": "code",
   "execution_count": 11,
   "metadata": {},
   "outputs": [
    {
     "data": {
      "text/plain": [
       "(['Canada', 76.5], ['United States', 75.5], ['Mexico', 100])"
      ]
     },
     "execution_count": 11,
     "metadata": {},
     "output_type": "execute_result"
    }
   ],
   "source": [
    "mexico=['Mexico',100]\n",
    "life=(canada,usa,mexico)\n",
    "life"
   ]
  },
  {
   "cell_type": "code",
   "execution_count": 16,
   "metadata": {},
   "outputs": [
    {
     "data": {
      "text/plain": [
       "int"
      ]
     },
     "execution_count": 16,
     "metadata": {},
     "output_type": "execute_result"
    }
   ],
   "source": [
    "a=()\n",
    "type(a)\n",
    "a=(8,)#need the , otherwise it is a int\n",
    "type(a)\n",
    "b=(8)\n",
    "type(b)"
   ]
  },
  {
   "cell_type": "code",
   "execution_count": 34,
   "metadata": {},
   "outputs": [
    {
     "data": {
      "text/plain": [
       "'second'"
      ]
     },
     "execution_count": 34,
     "metadata": {},
     "output_type": "execute_result"
    }
   ],
   "source": [
    "s1='first'\n",
    "s2='second'\n",
    "s1,s2=s2,s1\n",
    "s1"
   ]
  },
  {
   "cell_type": "code",
   "execution_count": 35,
   "metadata": {},
   "outputs": [],
   "source": [
    "bird_counts=[]"
   ]
  },
  {
   "cell_type": "code",
   "execution_count": 36,
   "metadata": {},
   "outputs": [
    {
     "data": {
      "text/plain": [
       "0"
      ]
     },
     "execution_count": 36,
     "metadata": {},
     "output_type": "execute_result"
    }
   ],
   "source": [
    "bird_counts"
   ]
  },
  {
   "cell_type": "code",
   "execution_count": 48,
   "metadata": {},
   "outputs": [
    {
     "data": {
      "text/plain": [
       "1"
      ]
     },
     "execution_count": 48,
     "metadata": {},
     "output_type": "execute_result"
    }
   ],
   "source": [
    "bird_to_observations={'canada goose':3,'northern fulmar':1}\n",
    "b='northern fulmar'\n",
    "bird_to_observations[b]"
   ]
  },
  {
   "cell_type": "code",
   "execution_count": 42,
   "metadata": {},
   "outputs": [
    {
     "name": "stdout",
     "output_type": "stream",
     "text": [
      "canada goose 3\n",
      "northern fulmar 1\n"
     ]
    }
   ],
   "source": [
    "bird_to_observations['northern fulmar']\n",
    "for bird in bird_to_observations:\n",
    "    print(bird,bird_to_observations[bird])"
   ]
  },
  {
   "cell_type": "code",
   "execution_count": 6,
   "metadata": {},
   "outputs": [
    {
     "data": {
      "text/plain": [
       "1"
      ]
     },
     "execution_count": 6,
     "metadata": {},
     "output_type": "execute_result"
    }
   ],
   "source": [
    "bird_to_observation={}\n",
    "bird='Canada goose'\n",
    "bird_to_observation[bird]=1\n",
    "bird_to_observation[bird]"
   ]
  },
  {
   "cell_type": "code",
   "execution_count": 1,
   "metadata": {},
   "outputs": [
    {
     "data": {
      "text/plain": [
       "[]"
      ]
     },
     "execution_count": 1,
     "metadata": {},
     "output_type": "execute_result"
    }
   ],
   "source": [
    "f = open('observations.txt')\n",
    "for line in f:\n",
    "    bird_counts=[]\n",
    "    bird = line.strip()\n",
    "    found = False\n",
    "    for entry in bird_counts:\n",
    "        if entry[0] == bird:\n",
    "            entry[1]=entry[1]+ 1\n",
    "            found = True\n",
    "        if not found:\n",
    "            bird_counts.append([bird, 1])\n",
    "bird_counts"
   ]
  },
  {
   "cell_type": "code",
   "execution_count": 9,
   "metadata": {},
   "outputs": [
    {
     "data": {
      "text/plain": [
       "[]"
      ]
     },
     "execution_count": 9,
     "metadata": {},
     "output_type": "execute_result"
    }
   ],
   "source": [
    "bird_counts"
   ]
  },
  {
   "cell_type": "code",
   "execution_count": 16,
   "metadata": {},
   "outputs": [],
   "source": [
    "bird_counts\n",
    "f=open('observations.txt')\n",
    "#for line in f:\n",
    " #   print(line)"
   ]
  },
  {
   "cell_type": "code",
   "execution_count": 15,
   "metadata": {},
   "outputs": [],
   "source": [
    "bird_to_observations = {'canada goose': 183, 'long-tailed jaeger': 71,\n",
    "                           'snow goose': 63, 'northern fulmar': 1}"
   ]
  },
  {
   "cell_type": "code",
   "execution_count": 17,
   "metadata": {},
   "outputs": [
    {
     "name": "stdout",
     "output_type": "stream",
     "text": [
      "northern fulmar 1\n",
      "long-tailed jaeger 71\n",
      "canada goose 183\n",
      "snow goose 63\n"
     ]
    }
   ],
   "source": [
    "for bird in bird_to_observations:\n",
    "    print(bird,bird_to_observations[bird])"
   ]
  },
  {
   "cell_type": "code",
   "execution_count": 19,
   "metadata": {},
   "outputs": [
    {
     "data": {
      "text/plain": [
       "dict_values([1, 71, 183, 63])"
      ]
     },
     "execution_count": 19,
     "metadata": {},
     "output_type": "execute_result"
    }
   ],
   "source": [
    "bird_to_observations.values()"
   ]
  },
  {
   "cell_type": "code",
   "execution_count": 4,
   "metadata": {},
   "outputs": [
    {
     "data": {
      "text/plain": [
       "{'canada goose': 5,\n",
       " 'long-tailed jaeger': 2,\n",
       " 'northern fulmar': 1,\n",
       " 'snow goose': 1}"
      ]
     },
     "execution_count": 4,
     "metadata": {},
     "output_type": "execute_result"
    }
   ],
   "source": [
    "observations_file = open('observations.txt')\n",
    "bird_to_observations = {}\n",
    "for line in observations_file:\n",
    "    bird = line.strip()\n",
    "    if bird in bird_to_observations:\n",
    "        bird_to_observations[bird] = bird_to_observations[bird] + 1\n",
    "    else:\n",
    "            bird_to_observations[bird] = 1\n",
    "observations_file.close()\n",
    "bird_to_observations"
   ]
  },
  {
   "cell_type": "code",
   "execution_count": 3,
   "metadata": {},
   "outputs": [
    {
     "data": {
      "text/plain": [
       "{'canada goose': 5,\n",
       " 'long-tailed jaeger': 2,\n",
       " 'northern fulmar': 1,\n",
       " 'snow goose': 1}"
      ]
     },
     "execution_count": 3,
     "metadata": {},
     "output_type": "execute_result"
    }
   ],
   "source": [
    "observations_file = open('observations.txt')\n",
    "bird_to_observations = {}\n",
    "for line in observations_file:\n",
    "    bird = line.strip()\n",
    "    bird_to_observations.setdefault(bird,0)\n",
    "    bird_to_observations[bird] += 1\n",
    "observations_file.close()\n",
    "bird_to_observations\n"
   ]
  },
  {
   "cell_type": "code",
   "execution_count": 4,
   "metadata": {
    "scrolled": true
   },
   "outputs": [
    {
     "name": "stdout",
     "output_type": "stream",
     "text": [
      "canada goose 5\n",
      "long-tailed jaeger 2\n",
      "northern fulmar 1\n",
      "snow goose 1\n"
     ]
    }
   ],
   "source": [
    "sorted_birds=sorted(bird_to_observations.keys())\n",
    "for bird in sorted_birds:\n",
    "    print(bird,bird_to_observations[bird])"
   ]
  },
  {
   "cell_type": "markdown",
   "metadata": {},
   "source": [
    "Invert dictionary"
   ]
  },
  {
   "cell_type": "code",
   "execution_count": 5,
   "metadata": {},
   "outputs": [
    {
     "data": {
      "text/plain": [
       "{1: ['snow goose', 'northern fulmar'],\n",
       " 2: ['long-tailed jaeger'],\n",
       " 5: ['canada goose']}"
      ]
     },
     "execution_count": 5,
     "metadata": {},
     "output_type": "execute_result"
    }
   ],
   "source": [
    "observations_to_birds_list={}\n",
    "for bird,observations in bird_to_observations.items():\n",
    "    if observations in observations_to_birds_list:\n",
    "        observations_to_birds_list[observations].append(bird)\n",
    "    else:\n",
    "        observations_to_birds_list[observations]=[bird]\n",
    "observations_to_birds_list"
   ]
  },
  {
   "cell_type": "code",
   "execution_count": 10,
   "metadata": {},
   "outputs": [
    {
     "name": "stdout",
     "output_type": "stream",
     "text": [
      "1 :   snow goose   northern fulmar \n",
      "2 :   long-tailed jaeger \n",
      "5 :   canada goose \n"
     ]
    }
   ],
   "source": [
    "observations_sorted=sorted(observations_to_birds_list.keys())\n",
    "for obs in observations_sorted:\n",
    "    print(obs,\":\", end=\" \")\n",
    "    for bird in observations_to_birds_list[obs]:\n",
    "        print(\" \",bird,end=\" \")\n",
    "    print()#change to another line, end=\" \" stay in same line\n",
    "    \n",
    "    \n",
    "    "
   ]
  },
  {
   "cell_type": "markdown",
   "metadata": {},
   "source": [
    "    Exercise \n",
    "    "
   ]
  },
  {
   "cell_type": "code",
   "execution_count": 25,
   "metadata": {},
   "outputs": [
    {
     "data": {
      "text/plain": [
       "[1, 2, 3]"
      ]
     },
     "execution_count": 25,
     "metadata": {},
     "output_type": "execute_result"
    }
   ],
   "source": [
    "#1\n",
    "def find_dups(L):\n",
    "    \"\"\"\n",
    "     List->List\n",
    "\n",
    "    \"\"\"\n",
    "    M=[]\n",
    "    for i in range(len(L1)):\n",
    "        if L.count(L1[i])>1:\n",
    "            M.append(L1[i])\n",
    "    return M\n",
    "   \n",
    "find_dups(L)    "
   ]
  },
  {
   "cell_type": "code",
   "execution_count": 4,
   "metadata": {},
   "outputs": [
    {
     "data": {
      "text/plain": [
       "{2, 3, 7}"
      ]
     },
     "execution_count": 4,
     "metadata": {},
     "output_type": "execute_result"
    }
   ],
   "source": [
    "#solution 2\n",
    "def find_dups(L):\n",
    "    originalset=set()\n",
    "    dup_set=set()\n",
    "    for item in L:\n",
    "        len_initial=len(originalset)\n",
    "        originalset.add(item)\n",
    "        len_final=len(originalset)\n",
    "        if len_initial==len_final:\n",
    "            dup_set.add(item)\n",
    "    return dup_set\n",
    "L=[1,2,2,3,3,3,4,5,7,7,7]\n",
    "find_dups(L)"
   ]
  },
  {
   "cell_type": "code",
   "execution_count": 11,
   "metadata": {},
   "outputs": [
    {
     "data": {
      "text/plain": [
       "{(1, 3), (2, 4), (3, 5), (4, 6)}"
      ]
     },
     "execution_count": 11,
     "metadata": {},
     "output_type": "execute_result"
    }
   ],
   "source": [
    "#2\n",
    "def mating_pairs(M,N):\n",
    "    \"\"\"\n",
    "    M={1,2,3,4}\n",
    "    N={3,4,5,6}\n",
    "    ->F{(1,3),(2,4),(3,5),(4,6)}   \n",
    "    \"\"\"\n",
    "    F=set()\n",
    "    while len(M)>0:\n",
    "        A=M.pop()\n",
    "        B=N.pop()\n",
    "        F.add((A,B))\n",
    "    return F\n",
    "M={1,2,3,4}\n",
    "N={3,4,5,6}\n",
    "mating_pairs(M,N)"
   ]
  },
  {
   "cell_type": "code",
   "execution_count": 17,
   "metadata": {},
   "outputs": [
    {
     "data": {
      "text/plain": [
       "{(-1, 8), (-1, 10), (1, 3), (2, 4), (3, 5), (4, 6)}"
      ]
     },
     "execution_count": 17,
     "metadata": {},
     "output_type": "execute_result"
    }
   ],
   "source": [
    "#2 a comprehensive solution if M and N have different length\n",
    "def mating_pairs(M,N):\n",
    "    \"\"\"\n",
    "    M={1,2,3,4}\n",
    "    N={3,4,5,6}\n",
    "    ->F{(1,3),(2,4),(3,5),(4,6)} \n",
    "    set,set-> as set of tuple\n",
    "    \"\"\"\n",
    "    F=set()\n",
    "    if len(M)>=len(N):\n",
    "        while len(N)>0:\n",
    "            A=M.pop()\n",
    "            B=N.pop()\n",
    "            F.add((A,B))\n",
    "        while len(M)>0:\n",
    "            A=M.pop()\n",
    "            F.add((A,-1)) \n",
    "    elif len(M)<len(N):\n",
    "        while len(M)>0:\n",
    "            A=M.pop()\n",
    "            B=N.pop()\n",
    "            F.add((A,B))\n",
    "        while len(N)>0:\n",
    "            B=N.pop()\n",
    "            F.add((-1,B))       \n",
    "    return F\n",
    "M={1,2,3,4}\n",
    "N={3,4,5,6,8,10}\n",
    "mating_pairs(M,N)"
   ]
  },
  {
   "cell_type": "code",
   "execution_count": 9,
   "metadata": {},
   "outputs": [
    {
     "data": {
      "text/plain": [
       "{(1, 3), (2, 4), (3, 5), (4, 6)}"
      ]
     },
     "execution_count": 9,
     "metadata": {},
     "output_type": "execute_result"
    }
   ],
   "source": [
    "M={1,2,3,4}\n",
    "N={3,4,5,6}\n",
    "F=set()\n",
    "while len(M)>0:\n",
    "    A=M.pop()\n",
    "    B=N.pop()\n",
    "    F.add((A,B))\n",
    "    \n",
    "F\n"
   ]
  },
  {
   "cell_type": "code",
   "execution_count": null,
   "metadata": {},
   "outputs": [],
   "source": [
    "#3\n",
    "def find_author(filenames):\n",
    "    author=set()\n",
    "    for filename in filenames:\n",
    "        pdb_file=open(filename)\n",
    "        for line in pdb_file:\n",
    "            if line.lower().startwith(\"author\"):\n",
    "                author=line[6:].strip()\n",
    "                author.add(author)\n",
    "    return author\n",
    "\n",
    "    "
   ]
  },
  {
   "cell_type": "code",
   "execution_count": 9,
   "metadata": {},
   "outputs": [
    {
     "data": {
      "text/plain": [
       "{1, 2}"
      ]
     },
     "execution_count": 9,
     "metadata": {},
     "output_type": "execute_result"
    }
   ],
   "source": [
    "S={\"red\":1,\"green\":1,\"blue\":2}  \n",
    "S=S.values()\n",
    "set(S)"
   ]
  },
  {
   "cell_type": "code",
   "execution_count": 10,
   "metadata": {},
   "outputs": [
    {
     "data": {
      "text/plain": [
       "2"
      ]
     },
     "execution_count": 10,
     "metadata": {},
     "output_type": "execute_result"
    }
   ],
   "source": [
    "#4\n",
    "def count_values(D):\n",
    "    S=set()\n",
    "    values=D.values()\n",
    "    return len(set(values))\n",
    "            \n",
    "S={\"red\":1,\"green\":1,\"blue\":2}  \n",
    "count_values(S)"
   ]
  },
  {
   "cell_type": "code",
   "execution_count": 13,
   "metadata": {},
   "outputs": [
    {
     "data": {
      "text/plain": [
       "'meson'"
      ]
     },
     "execution_count": 13,
     "metadata": {},
     "output_type": "execute_result"
    }
   ],
   "source": [
    "#5\n",
    "def least_likely_observed(S):\n",
    "    for key in S:\n",
    "        if S[key]==min(list(S.values())):\n",
    "            return key\n",
    "D={'neutron': 0.55, 'proton': 0.21, 'meson': 0.03, 'muon': 0.07, 'neutrino': 0.14}\n",
    "least_likely_observed(D)"
   ]
  },
  {
   "cell_type": "code",
   "execution_count": 23,
   "metadata": {},
   "outputs": [
    {
     "data": {
      "text/plain": [
       "2"
      ]
     },
     "execution_count": 23,
     "metadata": {},
     "output_type": "execute_result"
    }
   ],
   "source": [
    "#6\n",
    "def count_duplicates(S):\n",
    "    L=list(S.values())\n",
    "    S=set()\n",
    "    for item in L:\n",
    "        if L.count(item)>1:\n",
    "            S.add(item)            \n",
    "    return len(S)\n",
    "S={\"red\":1,\"green\":1,\"blue\":2,\"yellow\":2}  \n",
    "count_duplicates(S)\n",
    "    "
   ]
  },
  {
   "cell_type": "code",
   "execution_count": 26,
   "metadata": {},
   "outputs": [],
   "source": [
    "#7\n",
    "def is_balanced(D):\n",
    "    value=list(D.values())\n",
    "    if sum(value)==1:\n",
    "        return True\n",
    "    else:\n",
    "        return False\n",
    "       \n",
    "S={\"red\":0.2,\"green\":0.2,\"blue\":0.3} \n",
    "is_balanced(S)"
   ]
  },
  {
   "cell_type": "code",
   "execution_count": 42,
   "metadata": {},
   "outputs": [
    {
     "data": {
      "text/plain": [
       "{'blue': 0.3, 'green': 0.2}"
      ]
     },
     "execution_count": 42,
     "metadata": {},
     "output_type": "execute_result"
    }
   ],
   "source": [
    "#8\n",
    "def dict_interset(D1,D2):\n",
    "    L1=list(D1.items())\n",
    "    L2=list(D2.items())\n",
    "    D={}\n",
    "    for item in L1:\n",
    "        if item in L2:\n",
    "            D[item[0]]=item[1]\n",
    "    return D         \n",
    "dict_interset(D1,D2)"
   ]
  },
  {
   "cell_type": "code",
   "execution_count": 45,
   "metadata": {},
   "outputs": [
    {
     "data": {
      "text/plain": [
       "{'blue': 0.3, 'green': 0.2}"
      ]
     },
     "execution_count": 45,
     "metadata": {},
     "output_type": "execute_result"
    }
   ],
   "source": [
    "#solution 2\n",
    "def dict_interset(D1,D2):\n",
    "    S={}\n",
    "    for key,value in D1.items():\n",
    "        if key in D2 and value==D2[key]:\n",
    "            S[key]=value\n",
    "    return S\n",
    "dict_interset(D1,D2)            "
   ]
  },
  {
   "cell_type": "code",
   "execution_count": 79,
   "metadata": {},
   "outputs": [],
   "source": [
    "S={\n",
    "'jgoodall' : {'surname' : 'Goodall', 'forename' : 'Jane',\n",
    "'born' : 1934,\n",
    "'died' : None,\n",
    "'notes' : 'primate researcher', 'author' : ['In the Shadow of Man',\n",
    "'The Chimpanzees of Gombe']}, 'rfranklin' : {'surname' : 'Franklin',\n",
    "'forename' : 'Rosalind',\n",
    "'born' : 1920,\n",
    "'died' : 1957,\n",
    "'notes' : 'contributed to discovery of DNA'},\n",
    "'rcarson' : {'surname' : 'Carson', 'forename' : 'Rachel',\n",
    "             'born' : 1907,\n",
    "'died' : 1964,\n",
    "'notes' : 'raised awareness of effects of DDT', 'author' : ['Silent Spring']}}"
   ]
  },
  {
   "cell_type": "code",
   "execution_count": 67,
   "metadata": {},
   "outputs": [
    {
     "data": {
      "text/plain": [
       "{'author', 'born', 'died', 'forename', 'notes', 'surname'}"
      ]
     },
     "execution_count": 67,
     "metadata": {},
     "output_type": "execute_result"
    }
   ],
   "source": [
    "#9\n",
    "def db_headings(S):\n",
    "    #M=set()\n",
    "    for values in S.values():\n",
    "        M=set(values.keys())\n",
    "    return M\n",
    "            \n",
    "db_headings(S)        "
   ]
  },
  {
   "cell_type": "code",
   "execution_count": 96,
   "metadata": {},
   "outputs": [
    {
     "data": {
      "text/plain": [
       "False"
      ]
     },
     "execution_count": 96,
     "metadata": {},
     "output_type": "execute_result"
    }
   ],
   "source": [
    "#10\n",
    "def db_consistent(S):\n",
    "    L=list(S.values())\n",
    "    for i in range(len(L)):\n",
    "        #print(values)\n",
    "        if L[i].keys()==L[i+1].keys():\n",
    "            return True\n",
    "        else:\n",
    "            return False\n",
    "                \n",
    "db_consistent(S)"
   ]
  },
  {
   "cell_type": "code",
   "execution_count": 92,
   "metadata": {},
   "outputs": [
    {
     "data": {
      "text/plain": [
       "dict_keys(['notes', 'born', 'died', 'forename', 'surname'])"
      ]
     },
     "execution_count": 92,
     "metadata": {},
     "output_type": "execute_result"
    }
   ],
   "source": []
  },
  {
   "cell_type": "code",
   "execution_count": null,
   "metadata": {},
   "outputs": [],
   "source": [
    "#11\n",
    "\n"
   ]
  },
  {
   "cell_type": "code",
   "execution_count": 140,
   "metadata": {},
   "outputs": [],
   "source": [
    "V1=[1, 0, 0, 0, 0, 0, 3, 0, 0, 0]\n",
    "V2=[4,0,1,2,0,4,0,0,2,0,0]\n",
    "def sparse_add(V1,V2):\n",
    "    S1={}\n",
    "    S2={}\n",
    "    sum_v={}\n",
    "    for i in range(len(V1)):\n",
    "        if V1[i]!=0:\n",
    "            S1[i]=V1[i]\n",
    "    for i in range(len(V2)):\n",
    "        if V2[i]!=0:\n",
    "            S2[i]=V2[i]\n",
    "    if len(S1)>=len(S2):\n",
    "        for key in S1:\n",
    "            if key in S2:\n",
    "                sum_v[key]=S1[key]+S2[key]\n",
    "            else:\n",
    "                sum_v[key]=S1[key]\n",
    "                sum_v.update(S2)\n",
    "\n",
    "    else:\n",
    "        for key in S2:\n",
    "            if key in S1:\n",
    "                sum_v[key]=S1[key]+S2[key]\n",
    "            else:\n",
    "                sum_v[key]=S2[key]\n",
    "                sum_v.update(S1)\n",
    "    return sum_v       "
   ]
  },
  {
   "cell_type": "code",
   "execution_count": 141,
   "metadata": {},
   "outputs": [
    {
     "data": {
      "text/plain": [
       "{0: 1, 2: 1, 3: 2, 5: 4, 6: 3, 8: 2}"
      ]
     },
     "execution_count": 141,
     "metadata": {},
     "output_type": "execute_result"
    }
   ],
   "source": [
    "sparse_add(V1,V2)"
   ]
  },
  {
   "cell_type": "code",
   "execution_count": 139,
   "metadata": {},
   "outputs": [
    {
     "data": {
      "text/plain": [
       "{0: 1, 2: 1, 3: 2, 5: 4, 6: 3, 8: 2}"
      ]
     },
     "execution_count": 139,
     "metadata": {},
     "output_type": "execute_result"
    }
   ],
   "source": [
    "V1=[1, 0, 0, 0, 0, 0, 3, 0, 0, 0]\n",
    "V2=[4,0,1,2,0,4,0,0,2,0,0]\n",
    "S1={}\n",
    "S2={}\n",
    "sum_v={}\n",
    "for i in range(len(V1)):\n",
    "    if V1[i]!=0:\n",
    "        S1[i]=V1[i]\n",
    "for i in range(len(V2)):\n",
    "    if V2[i]!=0:\n",
    "        S2[i]=V2[i]\n",
    "if len(S1)>=len(S2):\n",
    "    for key in S1:\n",
    "        if key in S2:\n",
    "            sum_v[key]=S1[key]+S2[key]\n",
    "        else:\n",
    "            sum_v[key]=S1[key]\n",
    "            sum_v.update(S2)\n",
    "\n",
    "else:\n",
    "    for key in S2:\n",
    "        if key in S1:\n",
    "            sum_v[key]=S1[key]+S2[key]\n",
    "        else:\n",
    "            sum_v[key]=S2[key]\n",
    "            sum_v.update(S1)\n",
    "sum_v\n",
    "#S1\n"
   ]
  },
  {
   "cell_type": "code",
   "execution_count": 131,
   "metadata": {},
   "outputs": [
    {
     "data": {
      "text/plain": [
       "{0: 1, 2: 0, 3: 0, 5: 0, 6: 3, 8: 0}"
      ]
     },
     "execution_count": 131,
     "metadata": {},
     "output_type": "execute_result"
    }
   ],
   "source": []
  },
  {
   "cell_type": "code",
   "execution_count": 144,
   "metadata": {},
   "outputs": [],
   "source": [
    "#b only stored the values that are non-zero \n",
    "def sparse_dot(V1,V2):\n",
    "    S1={}\n",
    "    S2={}\n",
    "    addition={}\n",
    "    for i in range(len(V1)):\n",
    "        if V1[i]!=0:\n",
    "            S1[i]=V1[i]\n",
    "    for i in range(len(V2)):\n",
    "        if V2[i]!=0:\n",
    "            S2[i]=V2[i]\n",
    "    if len(S1)>=len(S2):\n",
    "        for key in S1:\n",
    "            if key in S2:\n",
    "                addition[key]=S1[key]*S2[key]\n",
    "            #else:\n",
    "                #addition[key]=0\n",
    "        #for key in S2:\n",
    "         #   if key not in S1:\n",
    "                #addition[key]=0\n",
    "    else:\n",
    "        for key in S2:\n",
    "            if key in S1:\n",
    "                addition[key]=S1[key]*S2[key]\n",
    "\n",
    "        #for key in S1:\n",
    "         #   if key not in S2:\n",
    "          #      addition[key]=0            \n",
    "    return addition      "
   ]
  },
  {
   "cell_type": "code",
   "execution_count": 145,
   "metadata": {},
   "outputs": [
    {
     "data": {
      "text/plain": [
       "{0: 4}"
      ]
     },
     "execution_count": 145,
     "metadata": {},
     "output_type": "execute_result"
    }
   ],
   "source": [
    "sparse_dot(V1,V2)"
   ]
  },
  {
   "cell_type": "markdown",
   "metadata": {},
   "source": [
    "Since only non-zero entries are stored, will the last entry always be non-zero? If not, how will the last entry be rep"
   ]
  },
  {
   "cell_type": "code",
   "execution_count": null,
   "metadata": {},
   "outputs": [],
   "source": []
  },
  {
   "cell_type": "code",
   "execution_count": null,
   "metadata": {},
   "outputs": [],
   "source": []
  },
  {
   "cell_type": "code",
   "execution_count": null,
   "metadata": {},
   "outputs": [],
   "source": []
  },
  {
   "cell_type": "code",
   "execution_count": null,
   "metadata": {},
   "outputs": [],
   "source": []
  },
  {
   "cell_type": "code",
   "execution_count": null,
   "metadata": {},
   "outputs": [],
   "source": []
  },
  {
   "cell_type": "code",
   "execution_count": null,
   "metadata": {},
   "outputs": [],
   "source": []
  },
  {
   "cell_type": "code",
   "execution_count": null,
   "metadata": {},
   "outputs": [],
   "source": []
  }
 ],
 "metadata": {
  "kernelspec": {
   "display_name": "Python 3",
   "language": "python",
   "name": "python3"
  },
  "language_info": {
   "codemirror_mode": {
    "name": "ipython",
    "version": 3
   },
   "file_extension": ".py",
   "mimetype": "text/x-python",
   "name": "python",
   "nbconvert_exporter": "python",
   "pygments_lexer": "ipython3",
   "version": "3.5.2"
  }
 },
 "nbformat": 4,
 "nbformat_minor": 2
}
