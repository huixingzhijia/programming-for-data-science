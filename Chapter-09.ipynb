{
 "cells": [
  {
   "cell_type": "code",
   "execution_count": 1,
   "metadata": {},
   "outputs": [
    {
     "name": "stdout",
     "output_type": "stream",
     "text": [
      "U\n",
      "S\n",
      "A\n"
     ]
    }
   ],
   "source": [
    "country='United State of America'\n",
    "for ch in country:\n",
    "    if ch.isupper():\n",
    "        print(ch)"
   ]
  },
  {
   "cell_type": "code",
   "execution_count": 1,
   "metadata": {},
   "outputs": [
    {
     "name": "stdout",
     "output_type": "stream",
     "text": [
      "0\n",
      "1\n",
      "2\n",
      "3\n",
      "4\n",
      "5\n",
      "6\n",
      "7\n",
      "8\n",
      "9\n"
     ]
    }
   ],
   "source": [
    "for num in range(10):\n",
    "    print(num)"
   ]
  },
  {
   "cell_type": "code",
   "execution_count": 3,
   "metadata": {},
   "outputs": [
    {
     "data": {
      "text/plain": [
       "[0, 1, 2, 3, 4, 5, 6, 7, 8, 9]"
      ]
     },
     "execution_count": 3,
     "metadata": {},
     "output_type": "execute_result"
    }
   ],
   "source": [
    "list(range(10))"
   ]
  },
  {
   "cell_type": "code",
   "execution_count": 4,
   "metadata": {},
   "outputs": [
    {
     "data": {
      "text/plain": [
       "[2000, 2004, 2008, 2012, 2016, 2020, 2024, 2028, 2032, 2036, 2040, 2044, 2048]"
      ]
     },
     "execution_count": 4,
     "metadata": {},
     "output_type": "execute_result"
    }
   ],
   "source": [
    "list(range(2000,2050,4))"
   ]
  },
  {
   "cell_type": "code",
   "execution_count": 5,
   "metadata": {},
   "outputs": [
    {
     "data": {
      "text/plain": [
       "5050"
      ]
     },
     "execution_count": 5,
     "metadata": {},
     "output_type": "execute_result"
    }
   ],
   "source": [
    "total=0\n",
    "for i in range(1,101):\n",
    "    total=total+i\n",
    "total"
   ]
  },
  {
   "cell_type": "code",
   "execution_count": 9,
   "metadata": {},
   "outputs": [
    {
     "name": "stdout",
     "output_type": "stream",
     "text": [
      "-12\n"
     ]
    },
    {
     "data": {
      "text/plain": [
       "[4, 10, 3, 8, -6]"
      ]
     },
     "execution_count": 9,
     "metadata": {},
     "output_type": "execute_result"
    }
   ],
   "source": [
    "values=[4,10,3,8,-6]\n",
    "for num in values:\n",
    "    num=num*2\n",
    "print(num)#if not print in the loop it is a number\n",
    "values"
   ]
  },
  {
   "cell_type": "code",
   "execution_count": 19,
   "metadata": {},
   "outputs": [
    {
     "data": {
      "text/plain": [
       "[8, 20, 6, 16, -12]"
      ]
     },
     "execution_count": 19,
     "metadata": {},
     "output_type": "execute_result"
    }
   ],
   "source": [
    "values=[4,10,3,8,-6]\n",
    "for i in range(len(values)):\n",
    "    values[i]=values[i]*2\n",
    "values"
   ]
  },
  {
   "cell_type": "code",
   "execution_count": 11,
   "metadata": {},
   "outputs": [
    {
     "name": "stdout",
     "output_type": "stream",
     "text": [
      "Li 6.941\n",
      "Na 22.989\n",
      "K 39.098\n"
     ]
    }
   ],
   "source": [
    "metals=['Li','Na','K']\n",
    "weights=[6.941,22.989,39.098]\n",
    "for i in range(len(metals)):\n",
    "    print(metals[i],weights[i])"
   ]
  },
  {
   "cell_type": "code",
   "execution_count": 12,
   "metadata": {},
   "outputs": [
    {
     "name": "stdout",
     "output_type": "stream",
     "text": [
      "LiF\n",
      "LiCl\n",
      "LiBr\n",
      "NaF\n",
      "NaCl\n",
      "NaBr\n",
      "KF\n",
      "KCl\n",
      "KBr\n"
     ]
    }
   ],
   "source": [
    "outer=['Li','Na','K']\n",
    "inner=['F','Cl','Br']\n",
    "for metal in outer:\n",
    "    for halogen in inner:\n",
    "        print(metal+halogen)"
   ]
  },
  {
   "cell_type": "code",
   "execution_count": 29,
   "metadata": {},
   "outputs": [
    {
     "name": "stdout",
     "output_type": "stream",
     "text": [
      "\t1\t2\t3\t4\t5\n",
      "1\t1\t2\t3\t4\t5\n",
      "2\t2\t4\t6\t8\t10\n",
      "3\t3\t6\t9\t12\t15\n",
      "4\t4\t8\t12\t16\t20\n",
      "5\t5\t10\t15\t20\t25\n"
     ]
    }
   ],
   "source": [
    "def print_table(n):\n",
    "    numbers=list(range(1,n+1))#from 1 to n not include n+1\n",
    "    for i in numbers:#print the header row\n",
    "        print('\\t'+str(i),end='')\n",
    "    print()#end of the header row\n",
    "    #print each row number and the contents of each row\n",
    "    for i in numbers:\n",
    "        print(i,end='')\n",
    "        for j in numbers:\n",
    "            print('\\t'+str(i*j),end='')\n",
    "        print()#end of the current\n",
    "print_table(5)"
   ]
  },
  {
   "cell_type": "code",
   "execution_count": 14,
   "metadata": {},
   "outputs": [
    {
     "data": {
      "text/plain": [
       "[1, 2, 3]"
      ]
     },
     "execution_count": 14,
     "metadata": {},
     "output_type": "execute_result"
    }
   ],
   "source": [
    "list(range(1,4))"
   ]
  },
  {
   "cell_type": "code",
   "execution_count": 16,
   "metadata": {},
   "outputs": [
    {
     "data": {
      "text/plain": [
       "range(1, 4)"
      ]
     },
     "execution_count": 16,
     "metadata": {},
     "output_type": "execute_result"
    }
   ],
   "source": [
    "a=range(1,4)\n",
    "a"
   ]
  },
  {
   "cell_type": "code",
   "execution_count": 24,
   "metadata": {},
   "outputs": [
    {
     "name": "stdout",
     "output_type": "stream",
     "text": [
      "学号\t姓名\t语文\t数学\t英语\n",
      "\t2017001\t曹操\t99\t\t88\t\t0\n",
      "2017002\t周瑜\t92\t\t45\t\t93\n",
      "2017008\t黄盖\t77\t\t82\t\t100\n"
     ]
    }
   ],
   "source": [
    "#制表符的写法是\\t，作用是对齐表格的各列。\n",
    "print(\"学号\\t姓名\\t语文\\t数学\\t英语\")\n",
    "print('\\t'+\"2017001\"\"\\t曹操\\t99\\t\\t88\\t\\t0\")\n",
    "print(\"2017002\\t周瑜\\t92\\t\\t45\\t\\t93\")\n",
    "print(\"2017008\\t黄盖\\t77\\t\\t82\\t\\t100\")"
   ]
  },
  {
   "cell_type": "code",
   "execution_count": 31,
   "metadata": {},
   "outputs": [
    {
     "name": "stdout",
     "output_type": "stream",
     "text": [
      "['Li', 'Na', 'K']\n",
      "['F', 'Cl', 'Br']\n"
     ]
    }
   ],
   "source": [
    "elements=[['Li','Na','K'],['F','Cl','Br']]\n",
    "for inner_list in elements:\n",
    "    print(inner_list)"
   ]
  },
  {
   "cell_type": "code",
   "execution_count": 32,
   "metadata": {},
   "outputs": [
    {
     "name": "stdout",
     "output_type": "stream",
     "text": [
      "Li\n",
      "Na\n",
      "K\n",
      "F\n",
      "Cl\n",
      "Br\n"
     ]
    }
   ],
   "source": [
    "for inner_list in elements:\n",
    "    for item in inner_list:\n",
    "        print(item)"
   ]
  },
  {
   "cell_type": "code",
   "execution_count": 35,
   "metadata": {},
   "outputs": [
    {
     "name": "stdout",
     "output_type": "stream",
     "text": [
      "3\n",
      "3\n",
      "4\n"
     ]
    }
   ],
   "source": [
    "info = [['Isaac Newton', 1643, 1727],\n",
    "       ['Charles Darwin', 1809, 1882],\n",
    "       ['Alan Turing', 1912, 1954, 'alan@bletchley.uk']]\n",
    "for item in info:\n",
    "    print(len(item))"
   ]
  },
  {
   "cell_type": "code",
   "execution_count": 37,
   "metadata": {},
   "outputs": [
    {
     "name": "stdout",
     "output_type": "stream",
     "text": [
      "9:0210:1713:5218:2321:31\n",
      "8:4512:4414:5222:17\n",
      "8:5511:1112:3413:4615:5217:0821:15\n",
      "9:1511:4416:28\n",
      "10:0113:3316:4519:00\n",
      "9:3411:1615:5220:37\n",
      "9:0112:2418:5123:13\n"
     ]
    }
   ],
   "source": [
    "drinking_times_by_day = [[\"9:02\", \"10:17\", \"13:52\", \"18:23\", \"21:31\"],\n",
    "                          [\"8:45\", \"12:44\", \"14:52\", \"22:17\"],\n",
    "                          [\"8:55\", \"11:11\", \"12:34\", \"13:46\",\n",
    "                           \"15:52\", \"17:08\", \"21:15\"],\n",
    "                          [\"9:15\", \"11:44\", \"16:28\"],\n",
    "                          [\"10:01\", \"13:33\", \"16:45\", \"19:00\"],\n",
    "                          [\"9:34\", \"11:16\", \"15:52\", \"20:37\"],\n",
    "                          [\"9:01\", \"12:24\", \"18:51\", \"23:13\"]]\n",
    "for day in drinking_times_by_day:\n",
    "    for drinking_time in day:\n",
    "        print(drinking_time,end='')\n",
    "        #\n",
    "    print()"
   ]
  },
  {
   "cell_type": "code",
   "execution_count": 38,
   "metadata": {},
   "outputs": [
    {
     "name": "stdout",
     "output_type": "stream",
     "text": [
      "1210\n",
      "1464\n",
      "1772\n",
      "2144\n",
      "It took 4 minutes for the vacteria to double.\n",
      "The final population was 2144 bacteria.\n"
     ]
    }
   ],
   "source": [
    "time=0\n",
    "population=1000\n",
    "growth_rate=0.21\n",
    "while population<2000:\n",
    "    population=population+growth_rate*population\n",
    "    print(round(population))\n",
    "    time=time+1\n",
    "print(\"It took\",time,\"minutes for the vacteria to double.\")\n",
    "print(\"The final population was\",round(population),\"bacteria.\")"
   ]
  },
  {
   "cell_type": "code",
   "execution_count": 4,
   "metadata": {},
   "outputs": [
    {
     "data": {
      "text/plain": [
       "1"
      ]
     },
     "execution_count": 4,
     "metadata": {},
     "output_type": "execute_result"
    }
   ],
   "source": [
    "s='C3H7'\n",
    "digit_index=-1\n",
    "for i in range(len(s)):\n",
    "    if digit_index==-1 and s[i].isdigit():\n",
    "        digit_index=i\n",
    "digit_index\n",
    "#For example, let’s write some code to find the index of the \n",
    "#first digit in string 'C3H7'. The digit 3 is at index 1 in \n",
    "#this string. Using a for loop, we would have to write \n",
    "#something like this"
   ]
  },
  {
   "cell_type": "code",
   "execution_count": 5,
   "metadata": {},
   "outputs": [
    {
     "data": {
      "text/plain": [
       "2"
      ]
     },
     "execution_count": 5,
     "metadata": {},
     "output_type": "execute_result"
    }
   ],
   "source": [
    "total=0\n",
    "count=0\n",
    "for i in range(len(s)):\n",
    "    if s[i].isalpha():\n",
    "        continue\n",
    "    total=total+int(s[i])\n",
    "    count=count+1\n",
    "total\n",
    "count"
   ]
  },
  {
   "cell_type": "markdown",
   "metadata": {},
   "source": [
    "Exercise"
   ]
  },
  {
   "cell_type": "code",
   "execution_count": 6,
   "metadata": {},
   "outputs": [
    {
     "name": "stdout",
     "output_type": "stream",
     "text": [
      "Emb\n",
      "Him\n",
      "Unc\n",
      "Lon\n",
      "Dpy\n",
      "Sma\n"
     ]
    }
   ],
   "source": [
    "#1\n",
    "celegans_phenotypes=['Emb', 'Him', 'Unc', 'Lon', 'Dpy', 'Sma']\n",
    "for item in celegans_phenotypes:\n",
    "    print(item)"
   ]
  },
  {
   "cell_type": "code",
   "execution_count": 8,
   "metadata": {},
   "outputs": [
    {
     "name": "stdout",
     "output_type": "stream",
     "text": [
      "87.74\n",
      "24110.0\n",
      "6537.0\n",
      "14.4\n",
      "376000.0\n"
     ]
    }
   ],
   "source": [
    "#2\n",
    "half_lives= [87.74, 24110.0, 6537.0, 14.4, 376000.0]\n",
    "for item in half_lives:\n",
    "    print(item)"
   ]
  },
  {
   "cell_type": "code",
   "execution_count": 34,
   "metadata": {},
   "outputs": [
    {
     "data": {
      "text/plain": [
       "[6, 5, 8, 4, 3, 4, 3, 7, 5, 3, 2, 8, 2, 4]"
      ]
     },
     "execution_count": 34,
     "metadata": {},
     "output_type": "execute_result"
    }
   ],
   "source": [
    "#3\n",
    "more_whales=[]\n",
    "whales=[5,4,7,3,2,3,2,6,4,2,1,7,1,3]\n",
    "\n",
    "for count in whales:\n",
    "    more_whales.append(count+1)\n",
    "more_whales\n",
    "\n"
   ]
  },
  {
   "cell_type": "markdown",
   "metadata": {},
   "source": [
    "for i in range(len(whales)):    \n",
    "    more_whales[i]=whales[i]+1\n",
    "why the previous code dose not work?\n",
    "\n",
    "When you start, you've initialized `more_whales` to be an \n",
    "empty list with no entries in it.  So, when you try to store \n",
    "something at `more_whales[0]` the first time through the loop, \n",
    "it fails because that is past the end of the list.  \n",
    "Remember that `more_whales` is a list with length 0.  \n",
    "To extend a list past its current length, you have to use\n",
    "append().  So, you'd want to say something like \n",
    "`more_whales.append( whales[i] + 1 )`.  "
   ]
  },
  {
   "cell_type": "code",
   "execution_count": null,
   "metadata": {},
   "outputs": [],
   "source": []
  },
  {
   "cell_type": "code",
   "execution_count": 35,
   "metadata": {},
   "outputs": [],
   "source": [
    "#4\n",
    "alkaline_earth_metals = [[4, 9.012], [12, 24.305],\n",
    "[20, 40.078], [38, 87.62],\n",
    "[56, 137.327], [88, 226]]"
   ]
  },
  {
   "cell_type": "code",
   "execution_count": 37,
   "metadata": {},
   "outputs": [
    {
     "name": "stdout",
     "output_type": "stream",
     "text": [
      "4\n",
      "9.012\n",
      "12\n",
      "24.305\n",
      "20\n",
      "40.078\n",
      "38\n",
      "87.62\n",
      "56\n",
      "137.327\n",
      "88\n",
      "226\n"
     ]
    }
   ],
   "source": [
    "for metal in alkaline_earth_metals:\n",
    "    print(metal[0])\n",
    "    print(metal[1])"
   ]
  },
  {
   "cell_type": "code",
   "execution_count": 39,
   "metadata": {},
   "outputs": [
    {
     "data": {
      "text/plain": [
       "[4, 9.012, 12, 24.305, 20, 40.078, 38, 87.62, 56, 137.327, 88, 226]"
      ]
     },
     "execution_count": 39,
     "metadata": {},
     "output_type": "execute_result"
    }
   ],
   "source": [
    "number_and_weight=[]\n",
    "for metal in alkaline_earth_metals:\n",
    "    number_and_weight.append(metal[0])\n",
    "    number_and_weight.append(metal[1])\n",
    "number_and_weight    "
   ]
  },
  {
   "cell_type": "code",
   "execution_count": 42,
   "metadata": {},
   "outputs": [
    {
     "data": {
      "text/plain": [
       "[[3, 2, 1], [5, 4, 3]]"
      ]
     },
     "execution_count": 42,
     "metadata": {},
     "output_type": "execute_result"
    }
   ],
   "source": [
    "#5\n",
    "def mystery_function(values): \n",
    "    \"\"\"\n",
    "    Return a copy of the list, values, and the sublists it contains.\n",
    "    The top-level sublists have their elements reversed in the returned\n",
    "    list.  \n",
    "    mystery_function([[1,2,3],[3,4,5]])\n",
    "    [[3, 2, 1], [5, 4, 3]\n",
    "    \"\"\"\n",
    "    result = []\n",
    "    for sublist in values: \n",
    "        result.append([sublist[0]])\n",
    "        #make sure append a list, if it changed to result.append(sublist[0])\n",
    "        #it will become [1] not [[1]]\n",
    "        for i in sublist[1:]:\n",
    "            result[-1].insert(0, i)\n",
    "    return result\n",
    "\n",
    "values=[[1,2,3],[3,4,5]]\n",
    "mystery_function(values)"
   ]
  },
  {
   "cell_type": "code",
   "execution_count": 55,
   "metadata": {},
   "outputs": [
    {
     "data": {
      "text/plain": [
       "[[1, 1], [2, 2, 3]]"
      ]
     },
     "execution_count": 55,
     "metadata": {},
     "output_type": "execute_result"
    }
   ],
   "source": [
    "b=[]\n",
    "a=[[1,2,3],[3,4,5]]\n",
    "b.append(a[0][0])\n",
    "result=[[1,1],[2,3]]\n",
    "result[-1].insert(0,2)\n",
    "result"
   ]
  },
  {
   "cell_type": "code",
   "execution_count": 58,
   "metadata": {},
   "outputs": [
    {
     "name": "stdout",
     "output_type": "stream",
     "text": [
      "Please enter a chemical formula (or 'quit' to exit): QUIT\n",
      "...exiting program\n"
     ]
    }
   ],
   "source": [
    "#6\n",
    "text = \"\"\n",
    "while text.lower() != \"quit\":\n",
    "    text = input(\"Please enter a chemical formula (or 'quit' to exit): \") \n",
    "    if text.lower() == \"quit\":\n",
    "        print(\"...exiting program\") \n",
    "    elif text == \"H2O\":\n",
    "        print(\"Water\") \n",
    "    elif text == \"NH3\":\n",
    "        print(\"Ammonia\") \n",
    "    elif text == \"CH4\":\n",
    "        print(\"Methane\") \n",
    "    else:\n",
    "        print(\"Unknown compound\")"
   ]
  },
  {
   "cell_type": "code",
   "execution_count": 59,
   "metadata": {},
   "outputs": [
    {
     "data": {
      "text/plain": [
       "1396"
      ]
     },
     "execution_count": 59,
     "metadata": {},
     "output_type": "execute_result"
    }
   ],
   "source": [
    "#7\n",
    "country_populations = [1295, 23, 7, 3, 47, 21]\n",
    "total=0\n",
    "for population in country_populations:\n",
    "    total=total+population\n",
    "total"
   ]
  },
  {
   "cell_type": "code",
   "execution_count": 61,
   "metadata": {},
   "outputs": [
    {
     "name": "stdout",
     "output_type": "stream",
     "text": [
      "Rat 1 weighed more than rat 2 on day 1.\n",
      "Rat 1 weighed less than rat 2 on day 1.\n",
      "Rat 1 weighed less than rat 2 on day 1.\n",
      "Rat 1 weighed more than rat 2 on day 1.\n",
      "Rat 1 weighed less than rat 2 on day 1.\n",
      "Rat 1 weighed less than rat 2 on day 1.\n",
      "Rat 1 weighed less than rat 2 on day 1.\n",
      "Rat 1 weighed less than rat 2 on day 1.\n",
      "Rat 1 weighed less than rat 2 on day 1.\n",
      "Rat 1 weighed less than rat 2 on day 1.\n"
     ]
    }
   ],
   "source": [
    "#8\n",
    "rat_1=[15,2,3,4,5,6,7.2,8,9,10]\n",
    "rat_2=[2.2,7,8,3,5,7,9,11,12,13]\n",
    "for i in range(len(rat_1)):\n",
    "    if rat_1[i]>rat_2[i]:\n",
    "        print(\"Rat 1 weighed more than rat 2 on day 1.\")\n",
    "    else:\n",
    "        print(\"Rat 1 weighed less than rat 2 on day 1.\")\n",
    "              "
   ]
  },
  {
   "cell_type": "code",
   "execution_count": 64,
   "metadata": {},
   "outputs": [
    {
     "name": "stdout",
     "output_type": "stream",
     "text": [
      "Rat 1 weighed less than rat 2 on day 1.\n"
     ]
    }
   ],
   "source": [
    "#a\n",
    "if rat_1[i]>rat_2[i]:\n",
    "    print(\"Rat 1 weighed more than rat 2 on day 1.\")\n",
    "else:\n",
    "    print(\"Rat 1 weighed less than rat 2 on day 1.\")"
   ]
  },
  {
   "cell_type": "code",
   "execution_count": 63,
   "metadata": {},
   "outputs": [
    {
     "name": "stdout",
     "output_type": "stream",
     "text": [
      "Rat 2 became heavier than Rat 1.\n"
     ]
    }
   ],
   "source": [
    "#b\n",
    "\n",
    "if rat_1[0]>rat_2[0] and rat_1[-1]>rat_2[-1]:\n",
    "    print(\"Rat 1 remained heavier than Rat 2.\")\n",
    "else:\n",
    "    print(\"Rat 2 became heavier than Rat 1.\")"
   ]
  },
  {
   "cell_type": "code",
   "execution_count": 65,
   "metadata": {},
   "outputs": [
    {
     "name": "stdout",
     "output_type": "stream",
     "text": [
      "33\n",
      "34\n",
      "35\n",
      "36\n",
      "37\n",
      "38\n",
      "39\n",
      "40\n",
      "41\n",
      "42\n",
      "43\n",
      "44\n",
      "45\n",
      "46\n",
      "47\n",
      "48\n",
      "49\n"
     ]
    }
   ],
   "source": [
    "#9\n",
    "for num in range(33,50):\n",
    "    print(num)"
   ]
  },
  {
   "cell_type": "code",
   "execution_count": 70,
   "metadata": {},
   "outputs": [
    {
     "name": "stdout",
     "output_type": "stream",
     "text": [
      "109876543210"
     ]
    }
   ],
   "source": [
    "#10\n",
    "for num in range(0,11):\n",
    "    print(10-num,end='')#end='' not change row only add space"
   ]
  },
  {
   "cell_type": "code",
   "execution_count": 72,
   "metadata": {},
   "outputs": [
    {
     "data": {
      "text/plain": [
       "12.0"
      ]
     },
     "execution_count": 72,
     "metadata": {},
     "output_type": "execute_result"
    }
   ],
   "source": [
    "#11\n",
    "total=0\n",
    "count=0\n",
    "for num in range(2,23):\n",
    "    total=total+num\n",
    "    count=count+1\n",
    "avg=total/count\n",
    "avg"
   ]
  },
  {
   "cell_type": "code",
   "execution_count": 87,
   "metadata": {},
   "outputs": [],
   "source": [
    "#12\n",
    "def remove_neg(num_list):\n",
    "    \"\"\" (list of number) -> NoneType\n",
    "        Remove the negative numbers from the list num_list.\n",
    "        >>> numbers = [-5, 1, -3, 2]\n",
    "        >>> remove_neg(numbers)\n",
    "        >>> numbers\n",
    "        [1, 2]\n",
    "    \"\"\"\n",
    "    index=0\n",
    "    while index<len(num_list):\n",
    "        if num_list[index] < 0:\n",
    "            del num_list[index]\n",
    "        else:\n",
    "            index+=1\n",
    "    return num_list\n",
    "#while loop only increase the index when it ask to do it. "
   ]
  },
  {
   "cell_type": "code",
   "execution_count": null,
   "metadata": {},
   "outputs": [],
   "source": [
    "def remove_negative(num_list):  \n",
    "    for ind in rangle(len(list)):\n",
    "        if list[ind]<0:\n",
    "            list.pop(ind)\n",
    "            ind+=1"
   ]
  },
  {
   "cell_type": "code",
   "execution_count": 5,
   "metadata": {},
   "outputs": [],
   "source": [
    "\n",
    "def remove_negative(num_list):\n",
    "    L=[]\n",
    "    for i in range(len(num_list)):\n",
    "        if num_list[i]>0:\n",
    "            L.append(num_list[i])\n",
    "            i+=1\n",
    "        else:\n",
    "            i+=1\n",
    "    return L\n",
    "            \n",
    "    "
   ]
  },
  {
   "cell_type": "code",
   "execution_count": 6,
   "metadata": {},
   "outputs": [
    {
     "data": {
      "text/plain": [
       "[1, 2, 8, 9]"
      ]
     },
     "execution_count": 6,
     "metadata": {},
     "output_type": "execute_result"
    }
   ],
   "source": [
    "remove_negative([1,2,-3,-4,-6,8,9])"
   ]
  },
  {
   "cell_type": "code",
   "execution_count": 89,
   "metadata": {},
   "outputs": [
    {
     "data": {
      "text/plain": [
       "[1, 2, 3, 6, 1]"
      ]
     },
     "execution_count": 89,
     "metadata": {},
     "output_type": "execute_result"
    }
   ],
   "source": [
    "remove_neg([-5, 1, -3, 2])\n",
    "remove_neg([1, 2, 3, -3, 6, -1, -3, 1])"
   ]
  },
  {
   "cell_type": "code",
   "execution_count": 1,
   "metadata": {},
   "outputs": [
    {
     "name": "stdout",
     "output_type": "stream",
     "text": [
      "T\n",
      "TT\n",
      "TTT\n",
      "TTTT\n",
      "TTTTT\n",
      "TTTTTT\n",
      "TTTTTTT\n"
     ]
    }
   ],
   "source": [
    "#13\n",
    "i=1\n",
    "while i<8:\n",
    "    print('T'*i)\n",
    "    i+=1"
   ]
  },
  {
   "cell_type": "code",
   "execution_count": 14,
   "metadata": {},
   "outputs": [
    {
     "name": "stdout",
     "output_type": "stream",
     "text": [
      "      T\n",
      "     TT\n",
      "    TTT\n",
      "   TTTT\n",
      "  TTTTT\n",
      " TTTTTT\n",
      "TTTTTTT\n"
     ]
    }
   ],
   "source": [
    "#14\n",
    "i=1\n",
    "while i<8:\n",
    "    print(' '*(7 - i), 'T'*i, sep='')\n",
    "    i+=1"
   ]
  },
  {
   "cell_type": "code",
   "execution_count": 15,
   "metadata": {},
   "outputs": [
    {
     "name": "stdout",
     "output_type": "stream",
     "text": [
      "T\n",
      "TT\n",
      "TTT\n",
      "TTTT\n",
      "TTTTT\n",
      "TTTTTT\n",
      "TTTTTTT\n"
     ]
    }
   ],
   "source": [
    "#15\n",
    "for i in range(1,8):\n",
    "    print('T'*i)"
   ]
  },
  {
   "cell_type": "code",
   "execution_count": 17,
   "metadata": {},
   "outputs": [
    {
     "name": "stdout",
     "output_type": "stream",
     "text": [
      "      T\n",
      "     TT\n",
      "    TTT\n",
      "   TTTT\n",
      "  TTTTT\n",
      " TTTTTT\n",
      "TTTTTTT\n"
     ]
    }
   ],
   "source": [
    "for i in range(1,8):\n",
    "    print(' '*(7-i),'T'*i,sep='')"
   ]
  },
  {
   "cell_type": "code",
   "execution_count": 23,
   "metadata": {},
   "outputs": [
    {
     "data": {
      "text/plain": [
       "6"
      ]
     },
     "execution_count": 23,
     "metadata": {},
     "output_type": "execute_result"
    }
   ],
   "source": [
    "#16\n",
    "rat_1_weight=10\n",
    "rat_2_weight=12\n",
    "rat_1_rate=0.04\n",
    "rat_2_rate=0.1\n",
    "weight=rat_1_weight\n",
    "count=0\n",
    "while weight<rat_1_weight*1.25:\n",
    "    weight=weight*(1+rat_1_rate)\n",
    "    count+=1\n",
    "weight\n",
    "count"
   ]
  },
  {
   "cell_type": "code",
   "execution_count": 26,
   "metadata": {},
   "outputs": [
    {
     "data": {
      "text/plain": [
       "2"
      ]
     },
     "execution_count": 26,
     "metadata": {},
     "output_type": "execute_result"
    }
   ],
   "source": [
    "rat_1_weight=10\n",
    "rat_2_weight=10\n",
    "rat_1_rate=0.08\n",
    "rat_2_rate=0.04\n",
    "weight=rat_1_weight\n",
    "count=0\n",
    "while weight<rat_2_weight*1.1:\n",
    "    weight=weight*(1+rat_1_rate)\n",
    "    count+=1\n",
    "weight\n",
    "count"
   ]
  },
  {
   "cell_type": "code",
   "execution_count": null,
   "metadata": {},
   "outputs": [],
   "source": []
  }
 ],
 "metadata": {
  "kernelspec": {
   "display_name": "Python 3",
   "language": "python",
   "name": "python3"
  },
  "language_info": {
   "codemirror_mode": {
    "name": "ipython",
    "version": 3
   },
   "file_extension": ".py",
   "mimetype": "text/x-python",
   "name": "python",
   "nbconvert_exporter": "python",
   "pygments_lexer": "ipython3",
   "version": "3.5.2"
  }
 },
 "nbformat": 4,
 "nbformat_minor": 2
}
